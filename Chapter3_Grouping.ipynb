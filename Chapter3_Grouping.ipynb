{
 "cells": [
  {
   "cell_type": "markdown",
   "id": "06041865",
   "metadata": {},
   "source": [
    "# Chapter 3 Grouping"
   ]
  },
  {
   "cell_type": "markdown",
   "id": "410cf20a",
   "metadata": {},
   "source": [
    "Grouping is a powerful tool that allows you to perform operations such as:\n",
    "-  Creating subexpressions to apply quantifers. For instance, repeating a subexpression rather than a single character.\n",
    "-  Limiting the scope of the alternation. Instead of alternating the whole expression, we can defne exactly what has to be alternated.\n",
    "-  Extracting information from the matched pattern. For example, extracting a date from lists of orders.\n",
    "- Using the extracted information again in the regex, which is probably the most useful property. One example would be to detect repeated words.\n",
    "\n",
    "Throughout this chapter, we will explore groups, from the simplest to the most complex ones. We'll review some of the previous examples in order to bring clarity to how these operations work."
   ]
  },
  {
   "cell_type": "markdown",
   "id": "e20d57f3",
   "metadata": {},
   "source": [
    "# Introduction"
   ]
  },
  {
   "cell_type": "markdown",
   "id": "b41c8812",
   "metadata": {},
   "source": [
    "We've already used groups in several examples throughout *Chapter 2, Regular \n",
    "Expressions with Python*. **Grouping is accomplished through two metacharacters, the parentheses ()**. The simplest example of the use of parentheses would be building a subexpression. For example, imagine you have a list of products, the ID for each product being made up of two or three sequences of one digit followed by a dash and followed by one alphanumeric character, 1-a2-b:"
   ]
  },
  {
   "cell_type": "code",
   "execution_count": 4,
   "id": "c14152ce",
   "metadata": {},
   "outputs": [],
   "source": [
    "import re"
   ]
  },
  {
   "cell_type": "code",
   "execution_count": 7,
   "id": "c7f16a9d",
   "metadata": {},
   "outputs": [
    {
     "data": {
      "text/plain": [
       "<re.Match object; span=(0, 6), match='1-a2-b'>"
      ]
     },
     "execution_count": 7,
     "metadata": {},
     "output_type": "execute_result"
    }
   ],
   "source": [
    "re.match(r\"(\\d-\\w){2,3}\", r\"1-a2-b\")"
   ]
  },
  {
   "cell_type": "markdown",
   "id": "dd0ce42f",
   "metadata": {},
   "source": [
    "As you can see in the preceding example, the parentheses indicate to the regex \n",
    "engine that the pattern inside them has to be treated like a unit."
   ]
  },
  {
   "cell_type": "markdown",
   "id": "a5bc7a7e",
   "metadata": {},
   "source": [
    "Let's see another example; in this case, we need to match whenever there is one or more ```ab``` followed by ```c```:"
   ]
  },
  {
   "cell_type": "code",
   "execution_count": 9,
   "id": "471a1666",
   "metadata": {},
   "outputs": [
    {
     "data": {
      "text/plain": [
       "<re.Match object; span=(0, 5), match='ababc'>"
      ]
     },
     "execution_count": 9,
     "metadata": {},
     "output_type": "execute_result"
    }
   ],
   "source": [
    "re.search(r\"(ab)+c\", r\"ababcc\")"
   ]
  },
  {
   "cell_type": "code",
   "execution_count": 10,
   "id": "b42170f0",
   "metadata": {},
   "outputs": [],
   "source": [
    "re.search(r\"(ab)+c\", r\"abbc\")"
   ]
  },
  {
   "cell_type": "markdown",
   "id": "41d1b5b7",
   "metadata": {},
   "source": [
    "**So, you could use parentheses whenever you want to group meaningful subpatterns inside the main pattern**."
   ]
  },
  {
   "cell_type": "markdown",
   "id": "ec76232a",
   "metadata": {},
   "source": [
    "Another simple example of their use is limiting the scope of alternation. For example, let's say we would like to write an expression to match if someone is from Spain. In Spanish, the country is spelled España and Spaniard is spelled Español. So, we want to match España and Español. The Spanish letter ñ can be confusing for non-Spanish speakers, so in order to avoid confusion we'll use Espana and Espanol instead of España and Español."
   ]
  },
  {
   "cell_type": "markdown",
   "id": "8f3656ad",
   "metadata": {},
   "source": [
    "we can achieve it with the following alternation:"
   ]
  },
  {
   "cell_type": "code",
   "execution_count": 11,
   "id": "05f5868e",
   "metadata": {},
   "outputs": [
    {
     "data": {
      "text/plain": [
       "<re.Match object; span=(5, 7), match='ol'>"
      ]
     },
     "execution_count": 11,
     "metadata": {},
     "output_type": "execute_result"
    }
   ],
   "source": [
    "re.search(\"Espana|ol\", \"Espanol\")"
   ]
  },
  {
   "cell_type": "code",
   "execution_count": 13,
   "id": "b0362ba8",
   "metadata": {},
   "outputs": [
    {
     "data": {
      "text/plain": [
       "<re.Match object; span=(0, 6), match='Espana'>"
      ]
     },
     "execution_count": 13,
     "metadata": {},
     "output_type": "execute_result"
    }
   ],
   "source": [
    "re.search(\"Espana|ol\", \"Espana\")"
   ]
  },
  {
   "cell_type": "markdown",
   "id": "d7b69d0b",
   "metadata": {},
   "source": [
    "The problem is that this also matches ```ol```:"
   ]
  },
  {
   "cell_type": "code",
   "execution_count": 12,
   "id": "1db0c1c9",
   "metadata": {},
   "outputs": [
    {
     "data": {
      "text/plain": [
       "<re.Match object; span=(0, 2), match='ol'>"
      ]
     },
     "execution_count": 12,
     "metadata": {},
     "output_type": "execute_result"
    }
   ],
   "source": [
    "re.search(\"Espana|ol\", \"ol\")"
   ]
  },
  {
   "cell_type": "markdown",
   "id": "5032b6a8",
   "metadata": {},
   "source": [
    "So, let's try character classes/character set (using ```[ ]```) as in the following code:"
   ]
  },
  {
   "cell_type": "code",
   "execution_count": 14,
   "id": "22dd3431",
   "metadata": {},
   "outputs": [
    {
     "data": {
      "text/plain": [
       "<re.Match object; span=(0, 6), match='Espano'>"
      ]
     },
     "execution_count": 14,
     "metadata": {},
     "output_type": "execute_result"
    }
   ],
   "source": [
    "re.search(\"Espan[aol]\", \"Espanol\")"
   ]
  },
  {
   "cell_type": "code",
   "execution_count": 15,
   "id": "201d4d6e",
   "metadata": {},
   "outputs": [
    {
     "data": {
      "text/plain": [
       "<re.Match object; span=(0, 6), match='Espana'>"
      ]
     },
     "execution_count": 15,
     "metadata": {},
     "output_type": "execute_result"
    }
   ],
   "source": [
    "re.search(\"Espan[aol]\", \"Espana\")"
   ]
  },
  {
   "cell_type": "markdown",
   "id": "541d7c1a",
   "metadata": {},
   "source": [
    "It works, but here we have another problem: It also matches ```\"Espano\"``` and ```\"Espanl\"``` that doesn't mean anything in Spanish:"
   ]
  },
  {
   "cell_type": "code",
   "execution_count": 16,
   "id": "88355e50",
   "metadata": {},
   "outputs": [
    {
     "data": {
      "text/plain": [
       "<re.Match object; span=(0, 6), match='Espano'>"
      ]
     },
     "execution_count": 16,
     "metadata": {},
     "output_type": "execute_result"
    }
   ],
   "source": [
    "re.search(\"Espan[a|ol]\", \"Espano\")"
   ]
  },
  {
   "cell_type": "code",
   "execution_count": 21,
   "id": "4fad7a36",
   "metadata": {},
   "outputs": [
    {
     "data": {
      "text/plain": [
       "<re.Match object; span=(0, 6), match='Espano'>"
      ]
     },
     "execution_count": 21,
     "metadata": {},
     "output_type": "execute_result"
    }
   ],
   "source": [
    "# this regex pattern will only take 1 character from character inside []\n",
    "re.search(\"Espan[a|ol]\", \"Espanol\")"
   ]
  },
  {
   "cell_type": "markdown",
   "id": "fb0e53df",
   "metadata": {},
   "source": [
    "The solution here is to use parentheses:"
   ]
  },
  {
   "cell_type": "code",
   "execution_count": 17,
   "id": "a4246d51",
   "metadata": {},
   "outputs": [
    {
     "data": {
      "text/plain": [
       "<re.Match object; span=(0, 6), match='Espana'>"
      ]
     },
     "execution_count": 17,
     "metadata": {},
     "output_type": "execute_result"
    }
   ],
   "source": [
    "re.search(\"Espan(a|ol)\", \"Espana\")"
   ]
  },
  {
   "cell_type": "code",
   "execution_count": 19,
   "id": "baaaf2d7",
   "metadata": {},
   "outputs": [
    {
     "data": {
      "text/plain": [
       "<re.Match object; span=(0, 7), match='Espanol'>"
      ]
     },
     "execution_count": 19,
     "metadata": {},
     "output_type": "execute_result"
    }
   ],
   "source": [
    "re.search(\"Espan(a|ol)\", \"Espanol\")"
   ]
  },
  {
   "cell_type": "code",
   "execution_count": 28,
   "id": "c5fa12a3",
   "metadata": {},
   "outputs": [],
   "source": [
    "# my own experiment\n",
    "# re.search(\"Espan(a|ol)\", \"Espanao\")\n",
    "\n",
    "# <re.Match object; span=(0, 6), match='Espana'>"
   ]
  },
  {
   "cell_type": "code",
   "execution_count": 29,
   "id": "06467823",
   "metadata": {},
   "outputs": [],
   "source": [
    "re.search(\"Espan(a|ol)\", \"Espan\")"
   ]
  },
  {
   "cell_type": "code",
   "execution_count": 30,
   "id": "98313d07",
   "metadata": {},
   "outputs": [],
   "source": [
    "re.search(\"Espan(a|ol)\", \"Espano\")"
   ]
  },
  {
   "cell_type": "code",
   "execution_count": 32,
   "id": "3305ac5f",
   "metadata": {},
   "outputs": [],
   "source": [
    "re.search(\"Espan(a|ol)\", \"ol\")"
   ]
  },
  {
   "cell_type": "markdown",
   "id": "925d196b",
   "metadata": {},
   "source": [
    "Let's see another key feature of grouping, **capturing**. Groups also capture the matched pattern, so you can use them later in several operations, such as sub or in the regex itself."
   ]
  },
  {
   "cell_type": "markdown",
   "id": "2708e621",
   "metadata": {},
   "source": [
    "**For example**, imagine you have a list of products, the IDs of which are made up of digits representing the country of the product, a dash as a separator, and one or more alphanumeric characters as the ID in the DB. You're requested to extract the country codes:\n",
    "\n",
    "```\"1-a\\n20-baer\\n34-afcr\"```"
   ]
  },
  {
   "cell_type": "code",
   "execution_count": 48,
   "id": "722fcbc6",
   "metadata": {},
   "outputs": [],
   "source": [
    "pattern = re.compile(r\"(\\d+)-\\w+\")\n",
    "\n",
    "it = pattern.finditer(r\"1-a\\n20-baer\\n34-afcr\")"
   ]
  },
  {
   "cell_type": "code",
   "execution_count": 49,
   "id": "1779d307",
   "metadata": {
    "scrolled": true
   },
   "outputs": [
    {
     "data": {
      "text/plain": [
       "[<re.Match object; span=(0, 3), match='1-a'>,\n",
       " <re.Match object; span=(5, 12), match='20-baer'>,\n",
       " <re.Match object; span=(14, 21), match='34-afcr'>]"
      ]
     },
     "execution_count": 49,
     "metadata": {},
     "output_type": "execute_result"
    }
   ],
   "source": [
    "match = [item for item in it]\n",
    "match"
   ]
  },
  {
   "cell_type": "code",
   "execution_count": 51,
   "id": "a47db3dd",
   "metadata": {
    "collapsed": true
   },
   "outputs": [
    {
     "ename": "AttributeError",
     "evalue": "'callable_iterator' object has no attribute 'next'",
     "output_type": "error",
     "traceback": [
      "\u001b[1;31m---------------------------------------------------------------------------\u001b[0m",
      "\u001b[1;31mAttributeError\u001b[0m                            Traceback (most recent call last)",
      "\u001b[1;32m~\\AppData\\Local\\Temp\\ipykernel_19216\\2833373507.py\u001b[0m in \u001b[0;36m<module>\u001b[1;34m\u001b[0m\n\u001b[1;32m----> 1\u001b[1;33m \u001b[0mmatch\u001b[0m \u001b[1;33m=\u001b[0m \u001b[0mit\u001b[0m\u001b[1;33m.\u001b[0m\u001b[0mnext\u001b[0m\u001b[1;33m(\u001b[0m\u001b[1;33m)\u001b[0m\u001b[1;33m\u001b[0m\u001b[1;33m\u001b[0m\u001b[0m\n\u001b[0m",
      "\u001b[1;31mAttributeError\u001b[0m: 'callable_iterator' object has no attribute 'next'"
     ]
    }
   ],
   "source": [
    "match = it.next()"
   ]
  },
  {
   "cell_type": "code",
   "execution_count": null,
   "id": "a1936c3c",
   "metadata": {},
   "outputs": [],
   "source": []
  },
  {
   "cell_type": "code",
   "execution_count": null,
   "id": "a1c1f0f6",
   "metadata": {},
   "outputs": [],
   "source": []
  },
  {
   "cell_type": "code",
   "execution_count": 50,
   "id": "1377b896",
   "metadata": {},
   "outputs": [
    {
     "data": {
      "text/plain": [
       "['1', '20', '34']"
      ]
     },
     "execution_count": 50,
     "metadata": {},
     "output_type": "execute_result"
    }
   ],
   "source": [
    "# my own experiment on finding country code\n",
    "country_code = re.findall(pattern, r\"1-a\\n20-baer\\n34-afcr\")\n",
    "country_code"
   ]
  },
  {
   "cell_type": "markdown",
   "id": "ed9dc119",
   "metadata": {},
   "source": [
    "In the preceding example, we've created a pattern to match the IDs, but we're only capturing a group made up of the country digits. Remember that when working with the ```group``` method, the index 0 returns the whole match, and the groups start at index 1.\n",
    "\n",
    "Capturing groups give a huge range of possibilities due to which they can also be used with several operations, which we would discuss in the upcoming sections."
   ]
  },
  {
   "cell_type": "markdown",
   "id": "c2be1bac",
   "metadata": {},
   "source": [
    "# Backreferences"
   ]
  },
  {
   "cell_type": "markdown",
   "id": "c2de06e8",
   "metadata": {},
   "source": [
    "As we've mentioned previously, one of the most powerful functionalities that grouping gives us is the possibility of *using the captured group inside the regex or other operations*. That's exactly what **backreferences** provide. Probably the best known example to bring some clarity is the regex to fnd duplicated words, as shown in the following code:"
   ]
  },
  {
   "cell_type": "code",
   "execution_count": 68,
   "id": "34d62b42",
   "metadata": {},
   "outputs": [],
   "source": [
    "pattern = re.compile(r\"(\\w+) \\1\")\n",
    "matches = pattern.search(r\"hello hello world\")"
   ]
  },
  {
   "cell_type": "code",
   "execution_count": 69,
   "id": "423ff19b",
   "metadata": {},
   "outputs": [
    {
     "data": {
      "text/plain": [
       "'hello hello'"
      ]
     },
     "execution_count": 69,
     "metadata": {},
     "output_type": "execute_result"
    }
   ],
   "source": [
    "# my own experiment\n",
    "matches.group()"
   ]
  },
  {
   "cell_type": "code",
   "execution_count": 70,
   "id": "76f8063f",
   "metadata": {},
   "outputs": [
    {
     "data": {
      "text/plain": [
       "'hello hello'"
      ]
     },
     "execution_count": 70,
     "metadata": {},
     "output_type": "execute_result"
    }
   ],
   "source": [
    "# my own experiment on group()\n",
    "matches.group(0)"
   ]
  },
  {
   "cell_type": "code",
   "execution_count": 72,
   "id": "4f2c3fd6",
   "metadata": {},
   "outputs": [
    {
     "data": {
      "text/plain": [
       "'hello'"
      ]
     },
     "execution_count": 72,
     "metadata": {},
     "output_type": "execute_result"
    }
   ],
   "source": [
    "# my own experiment on group()\n",
    "matches.group(1)"
   ]
  },
  {
   "cell_type": "code",
   "execution_count": 71,
   "id": "86f9863a",
   "metadata": {},
   "outputs": [
    {
     "data": {
      "text/plain": [
       "('hello',)"
      ]
     },
     "execution_count": 71,
     "metadata": {},
     "output_type": "execute_result"
    }
   ],
   "source": [
    "matches.groups()"
   ]
  },
  {
   "cell_type": "markdown",
   "id": "0b16b2ff",
   "metadata": {},
   "source": [
    "Here, we're capturing a group made up of one or more alphanumeric characters, \n",
    "after which the pattern tries to match a whitespace, and fnally we have the \\1 \n",
    "backreference. You can see it highlighted in the code, meaning that it must exactly match the same thing it matched as the frst group."
   ]
  },
  {
   "cell_type": "markdown",
   "id": "a6653e27",
   "metadata": {},
   "source": [
    "Backreferences can be used with the first 99 groups .Obviously, with an increase in the number of groups, you will fnd the task of reading and maintaining the regex more complex. This is something that can be reduced with named groups; we'll see them in the following section. But before that, we still have a lot of things to learn with backreferences. So, let's continue with another operation in which backreferences really come in handy. Recall the previous example, in which we had a list of products. Now, let's try to change the order of the ID, so we have the ID in the DB, a dash, and the country code:"
   ]
  },
  {
   "cell_type": "code",
   "execution_count": 62,
   "id": "1748b3ad",
   "metadata": {},
   "outputs": [],
   "source": [
    "pattern = re.compile(r\"(\\d+)-(\\w+)\")"
   ]
  },
  {
   "cell_type": "code",
   "execution_count": 63,
   "id": "b8e669f2",
   "metadata": {},
   "outputs": [
    {
     "data": {
      "text/plain": [
       "'a-1\\nbaer-20\\nafcr-34'"
      ]
     },
     "execution_count": 63,
     "metadata": {},
     "output_type": "execute_result"
    }
   ],
   "source": [
    "pattern.sub(r\"\\2-\\1\", \"1-a\\n20-baer\\n34-afcr\")"
   ]
  },
  {
   "cell_type": "markdown",
   "id": "d44a9485",
   "metadata": {},
   "source": [
    "That's it. Easy, isn't it? Note that we're also capturing the ID in the DB, so we can use it later. With the highlighted code (```r\"\\2-\\1\"```), we're saying, \"Replace what you've matched with the second group, a dash, and the first group\"."
   ]
  },
  {
   "cell_type": "markdown",
   "id": "c96ee252",
   "metadata": {},
   "source": [
    "As with the previous example, using numbers can be diffcult to follow and to \n",
    "maintain. So, let's see what Python, through the re module, offers to help with this."
   ]
  },
  {
   "cell_type": "markdown",
   "id": "785d0f23",
   "metadata": {},
   "source": [
    "# Named groups"
   ]
  },
  {
   "cell_type": "markdown",
   "id": "00790bb5",
   "metadata": {},
   "source": [
    "Remember from the previous chapter when we got a group through an index?"
   ]
  },
  {
   "cell_type": "code",
   "execution_count": 73,
   "id": "7fd8e8dd",
   "metadata": {},
   "outputs": [],
   "source": [
    "pattern = re.compile(r\"(\\w+) (\\w+)\")"
   ]
  },
  {
   "cell_type": "code",
   "execution_count": 74,
   "id": "6d1f1e36",
   "metadata": {},
   "outputs": [],
   "source": [
    "match = pattern.search(\"Hello world\")"
   ]
  },
  {
   "cell_type": "code",
   "execution_count": 75,
   "id": "99dbda49",
   "metadata": {},
   "outputs": [
    {
     "data": {
      "text/plain": [
       "'Hello'"
      ]
     },
     "execution_count": 75,
     "metadata": {},
     "output_type": "execute_result"
    }
   ],
   "source": [
    "match.group(1)"
   ]
  },
  {
   "cell_type": "code",
   "execution_count": 76,
   "id": "80714bdc",
   "metadata": {},
   "outputs": [
    {
     "data": {
      "text/plain": [
       "'world'"
      ]
     },
     "execution_count": 76,
     "metadata": {},
     "output_type": "execute_result"
    }
   ],
   "source": [
    "match.group(2)"
   ]
  },
  {
   "cell_type": "markdown",
   "id": "b39f4cf8",
   "metadata": {},
   "source": [
    "We just learnt how to access the groups using indexes to extract information and to use it as backreferences. Using numbers to refer to groups can be tedious and confusing, and the worst thing is that it doesn't allow you to give meaning or context to the group. That's why we have named groups."
   ]
  },
  {
   "cell_type": "markdown",
   "id": "2db296be",
   "metadata": {},
   "source": [
    "Imagine a regex in which you have several backreferences, let's say 10, and you\n",
    "find out that the third one is invalid, so you remove it from the regex. That means you have to change the index for every backreference starting from that one onwards. In order to solve this problem, in 1997, Guido Van Rossum designed \n",
    "named groups for Python 1.5. This feature was offered to Perl for cross pollination.\n",
    "\n",
    "Nowadays, it can be found in almost any favor. Basically it allows us to give names to the groups, so we can refer to them by their names in any operation where groups are involved."
   ]
  },
  {
   "cell_type": "markdown",
   "id": "c361394b",
   "metadata": {},
   "source": [
    "In order to use it, we have to use the syntax,```(?P<name>pattern)```, where the P comes from Python-specifc extensions (as you can read in the e-mail Guido sent to Perl developers at http://markmail.org/message/oyezhwvefvotacc3)\n",
    "\n",
    "Let's see how it works with the previous example in the following code snippet:"
   ]
  },
  {
   "cell_type": "code",
   "execution_count": 77,
   "id": "4a3cc455",
   "metadata": {},
   "outputs": [],
   "source": [
    "pattern = re.compile(r\"(?P<first>\\w+) (?P<second>\\w+)\")"
   ]
  },
  {
   "cell_type": "code",
   "execution_count": 83,
   "id": "1140daf3",
   "metadata": {},
   "outputs": [],
   "source": [
    "match = pattern.search(\"Hello world\")"
   ]
  },
  {
   "cell_type": "code",
   "execution_count": 84,
   "id": "1bc0b302",
   "metadata": {},
   "outputs": [
    {
     "data": {
      "text/plain": [
       "'Hello'"
      ]
     },
     "execution_count": 84,
     "metadata": {},
     "output_type": "execute_result"
    }
   ],
   "source": [
    "match.group(\"first\")"
   ]
  },
  {
   "cell_type": "code",
   "execution_count": 85,
   "id": "343a9985",
   "metadata": {},
   "outputs": [
    {
     "data": {
      "text/plain": [
       "'world'"
      ]
     },
     "execution_count": 85,
     "metadata": {},
     "output_type": "execute_result"
    }
   ],
   "source": [
    "match.group(\"second\")"
   ]
  },
  {
   "cell_type": "markdown",
   "id": "080db32b",
   "metadata": {},
   "source": [
    "So, backreferences are now much simpler to use and maintain as is evident in the following example:"
   ]
  },
  {
   "cell_type": "code",
   "execution_count": 86,
   "id": "ee113e24",
   "metadata": {},
   "outputs": [],
   "source": [
    "pattern = re.compile(r\"(?P<country>\\d+)-(?P<id>\\w+)\")"
   ]
  },
  {
   "cell_type": "code",
   "execution_count": 89,
   "id": "e2865bf6",
   "metadata": {},
   "outputs": [
    {
     "data": {
      "text/plain": [
       "'a-1\\nbaer-20\\nafcr-34'"
      ]
     },
     "execution_count": 89,
     "metadata": {},
     "output_type": "execute_result"
    }
   ],
   "source": [
    "pattern.sub(r\"\\g<id>-\\g<country>\", \"1-a\\n20-baer\\n34-afcr\")"
   ]
  },
  {
   "cell_type": "markdown",
   "id": "eca5966e",
   "metadata": {},
   "source": [
    "As we see in the previous example, in order to reference a group by the name  \n",
    "in the ```sub``` operation, we have to use ```\\g<name>```."
   ]
  },
  {
   "cell_type": "markdown",
   "id": "1d964e46",
   "metadata": {},
   "source": [
    "We can also use named groups inside the pattern itself, as seen in the following example:"
   ]
  },
  {
   "cell_type": "code",
   "execution_count": 90,
   "id": "f32ad444",
   "metadata": {},
   "outputs": [],
   "source": [
    "pattern = re.compile(r\"(?P<word>\\w+) (?P=word)\")"
   ]
  },
  {
   "cell_type": "code",
   "execution_count": 91,
   "id": "f7ccda49",
   "metadata": {},
   "outputs": [],
   "source": [
    "match = pattern.search(r\"hello hello world\")"
   ]
  },
  {
   "cell_type": "code",
   "execution_count": 93,
   "id": "6fc019b7",
   "metadata": {},
   "outputs": [
    {
     "data": {
      "text/plain": [
       "('hello',)"
      ]
     },
     "execution_count": 93,
     "metadata": {},
     "output_type": "execute_result"
    }
   ],
   "source": [
    "match.groups()"
   ]
  },
  {
   "cell_type": "markdown",
   "id": "0b54ddf3",
   "metadata": {},
   "source": [
    "This is simpler and more readable than using numbers."
   ]
  },
  {
   "cell_type": "markdown",
   "id": "35e27a72",
   "metadata": {},
   "source": [
    "Through these examples, we have used the following three different ways to refer to named group:"
   ]
  },
  {
   "cell_type": "markdown",
   "id": "0f1d78a0",
   "metadata": {},
   "source": [
    "|Use | Syntax|\n",
    "|:- | :- |\n",
    "|Inside a pattern | ```(?=name)```|\n",
    "|In the ```repl``` string of the ```sub``` operation | ```\\g<name>```|\n",
    "|in any of the operation of the ```MatchObject``` | ```match.group('name')``` |"
   ]
  },
  {
   "cell_type": "markdown",
   "id": "a97b0d2c",
   "metadata": {},
   "source": [
    "# Non-capturing group"
   ]
  },
  {
   "cell_type": "markdown",
   "id": "4a32db09",
   "metadata": {},
   "source": [
    "As we've mentioned before, capturing content is not the only use of groups.  \n",
    "\n",
    "There are cases when we want to use groups, but we're not interested in extracting the information; alternation would be a good example. That's why we have a way to create groups without capturing. Throughout this book, we've been using *groups to create subexpressions*, as can be seen in the following example:"
   ]
  },
  {
   "cell_type": "code",
   "execution_count": 94,
   "id": "0747b749",
   "metadata": {},
   "outputs": [
    {
     "data": {
      "text/plain": [
       "<re.Match object; span=(0, 7), match='Español'>"
      ]
     },
     "execution_count": 94,
     "metadata": {},
     "output_type": "execute_result"
    }
   ],
   "source": [
    "re.search(\"Españ(a|ol)\", \"Español\")"
   ]
  },
  {
   "cell_type": "code",
   "execution_count": 95,
   "id": "7cb55966",
   "metadata": {},
   "outputs": [
    {
     "data": {
      "text/plain": [
       "('ol',)"
      ]
     },
     "execution_count": 95,
     "metadata": {},
     "output_type": "execute_result"
    }
   ],
   "source": [
    "re.search(\"Españ(a|ol)\", \"Español\").groups()"
   ]
  },
  {
   "cell_type": "code",
   "execution_count": 104,
   "id": "d068e7fa",
   "metadata": {},
   "outputs": [],
   "source": [
    "# This method groups() is the same as group(1)\n",
    "# re.search(\"Españ(a|ol)\", \"Español\").group(1)\n",
    "\n",
    "# output\n",
    "# 'ol'"
   ]
  },
  {
   "cell_type": "markdown",
   "id": "5d07ffc3",
   "metadata": {},
   "source": [
    "You can see that we've captured a group even though we're not interested in the \n",
    "content of the group. So, let's try it without capturing, but first we have to know the syntax, which is almost the same as in normal groups, ```(?:pattern)```. As you can see, we've only added ```?:```. Let's see the following example:"
   ]
  },
  {
   "cell_type": "code",
   "execution_count": 105,
   "id": "9a051aca",
   "metadata": {},
   "outputs": [
    {
     "data": {
      "text/plain": [
       "<re.Match object; span=(0, 7), match='Español'>"
      ]
     },
     "execution_count": 105,
     "metadata": {},
     "output_type": "execute_result"
    }
   ],
   "source": [
    "re.search(\"Españ(?:a|ol)\", \"Español\")"
   ]
  },
  {
   "cell_type": "code",
   "execution_count": 106,
   "id": "5cb4669a",
   "metadata": {},
   "outputs": [
    {
     "data": {
      "text/plain": [
       "()"
      ]
     },
     "execution_count": 106,
     "metadata": {},
     "output_type": "execute_result"
    }
   ],
   "source": [
    "re.search(\"Españ(?:a|ol)\", \"Español\").groups()"
   ]
  },
  {
   "cell_type": "markdown",
   "id": "20060e38",
   "metadata": {},
   "source": [
    "After using the new syntax, we have the same functionality as before, but now  \n",
    "we're saving resources and the regex is easier to maintain. Note that the group \n",
    "cannot be referenced."
   ]
  },
  {
   "cell_type": "markdown",
   "id": "d7793e2b",
   "metadata": {},
   "source": [
    "### Atomic groups"
   ]
  },
  {
   "cell_type": "markdown",
   "id": "35447882",
   "metadata": {},
   "source": [
    "They're a special case of non-capturing groups; they're usually used to improve \n",
    "performance. It disables backtracking, so with them you can avoid cases where trying every possibility or path in the pattern doesn't make sense. This concept is diffcult to understand, so stay with me up to the end of the section."
   ]
  },
  {
   "cell_type": "markdown",
   "id": "624e2a02",
   "metadata": {},
   "source": [
    "The re module doesn't support atomic groups. So, in order to see an example,  \n",
    "we're going to use the regex module: https://pypi.python.org/pypi/regex."
   ]
  },
  {
   "cell_type": "markdown",
   "id": "6d40a3b6",
   "metadata": {},
   "source": [
    "Imagine we have to look for an ID made up of one or more alphanumeric characters followed by a dash and by a digit:"
   ]
  },
  {
   "cell_type": "code",
   "execution_count": 109,
   "id": "11e10f7d",
   "metadata": {},
   "outputs": [],
   "source": [
    "import regex"
   ]
  },
  {
   "cell_type": "code",
   "execution_count": 107,
   "id": "f428fcc0",
   "metadata": {},
   "outputs": [],
   "source": [
    "data = \"aaaaabbbbbaaaaccccccdddddaaa\""
   ]
  },
  {
   "cell_type": "code",
   "execution_count": 110,
   "id": "26f830f6",
   "metadata": {},
   "outputs": [],
   "source": [
    "regex.match(\"(?>\\w+)-\\d\", data)"
   ]
  },
  {
   "cell_type": "markdown",
   "id": "0cbf7650",
   "metadata": {},
   "source": [
    "Let's see step by step what's happening here:\n",
    "1.  The regex engine matches the frst a.\n",
    "2.  It then matches every character up to the end of the string.\n",
    "3.  It fails because it doesn't fnd the dash.\n",
    "4.  So, the engine does backtracking and tries the same with the following a.\n",
    "5.  Start the same process again."
   ]
  },
  {
   "cell_type": "markdown",
   "id": "af702e5e",
   "metadata": {},
   "source": [
    "It tries this with every character. If you think about what we're doing,it doesn't make any sense to keep trying once you have failed the frst time. And that's exactly what an atomic group is useful for. For example:\n",
    "\n",
    "```regex.match(\"(?>\\w+)-\\d\", data)```"
   ]
  },
  {
   "cell_type": "markdown",
   "id": "5dcf1126",
   "metadata": {},
   "source": [
    "Here we've added ```?>```, which indicates an atomic group, so once the regex engine fails to match, it doesn't keep trying with every character in the data."
   ]
  },
  {
   "cell_type": "markdown",
   "id": "67559e7c",
   "metadata": {},
   "source": [
    "# Special cases with groups"
   ]
  },
  {
   "cell_type": "markdown",
   "id": "2e742918",
   "metadata": {},
   "source": [
    "Python provides us with some forms of groups that can helps us to modify the regular expressions or even to match a pattern only when a previous group exist in the match, such as an ```if``` statement."
   ]
  },
  {
   "cell_type": "markdown",
   "id": "1a96220c",
   "metadata": {},
   "source": [
    "### Flags per group"
   ]
  },
  {
   "cell_type": "markdown",
   "id": "9490e082",
   "metadata": {},
   "source": [
    "There is a way to apply the flags we've seen in *Chapter 2, Regular Expressions \n",
    "with Python*, using a special form of grouping: ```(?iLmsux)```."
   ]
  },
  {
   "cell_type": "markdown",
   "id": "99f382ee",
   "metadata": {},
   "source": [
    "|Letter | Flag |\n",
    "|:- | :-|\n",
    "|i |re.IGNORECASE|\n",
    "|L |re.LOCALE|\n",
    "|m |re.MULTILINE|\n",
    "|s |re.DOTALL|\n",
    "|u |re.UNICODE|\n",
    "|x |re.VERBOSE|"
   ]
  },
  {
   "cell_type": "markdown",
   "id": "3f453753",
   "metadata": {},
   "source": [
    "for example:"
   ]
  },
  {
   "cell_type": "code",
   "execution_count": 112,
   "id": "36924d8a",
   "metadata": {},
   "outputs": [
    {
     "ename": "SyntaxError",
     "evalue": "invalid syntax (1427664906.py, line 1)",
     "output_type": "error",
     "traceback": [
      "\u001b[1;36m  File \u001b[1;32m\"C:\\Users\\zuhdi\\AppData\\Local\\Temp\\ipykernel_19216\\1427664906.py\"\u001b[1;36m, line \u001b[1;32m1\u001b[0m\n\u001b[1;33m    re.findall(r\"(?u)\\w+\", ur\"ñ\")\u001b[0m\n\u001b[1;37m                               ^\u001b[0m\n\u001b[1;31mSyntaxError\u001b[0m\u001b[1;31m:\u001b[0m invalid syntax\n"
     ]
    }
   ],
   "source": [
    "re.findall(r\"(?u)\\w+\", ur\"ñ\")"
   ]
  },
  {
   "cell_type": "markdown",
   "id": "8b6401f1",
   "metadata": {},
   "source": [
    "the above example is the same as:"
   ]
  },
  {
   "cell_type": "code",
   "execution_count": 113,
   "id": "f296ac7f",
   "metadata": {},
   "outputs": [
    {
     "ename": "SyntaxError",
     "evalue": "invalid syntax (1977784232.py, line 1)",
     "output_type": "error",
     "traceback": [
      "\u001b[1;36m  File \u001b[1;32m\"C:\\Users\\zuhdi\\AppData\\Local\\Temp\\ipykernel_19216\\1977784232.py\"\u001b[1;36m, line \u001b[1;32m1\u001b[0m\n\u001b[1;33m    re.findall(r\"\\w+\" ,ur\"ñ\", re.U)\u001b[0m\n\u001b[1;37m                           ^\u001b[0m\n\u001b[1;31mSyntaxError\u001b[0m\u001b[1;31m:\u001b[0m invalid syntax\n"
     ]
    }
   ],
   "source": [
    "re.findall(r\"\\w+\" ,ur\"ñ\", re.U)"
   ]
  },
  {
   "cell_type": "markdown",
   "id": "e6cece47",
   "metadata": {},
   "source": [
    "We've seen what these examples do several times in the previous chapter.\n",
    "Remember that a flag is applied to the whole expression."
   ]
  },
  {
   "cell_type": "markdown",
   "id": "a601f549",
   "metadata": {},
   "source": [
    "### yes-pattern|no-pattern"
   ]
  },
  {
   "cell_type": "code",
   "execution_count": null,
   "id": "99edf364",
   "metadata": {},
   "outputs": [],
   "source": []
  },
  {
   "cell_type": "code",
   "execution_count": null,
   "id": "f7b58848",
   "metadata": {},
   "outputs": [],
   "source": []
  },
  {
   "cell_type": "code",
   "execution_count": null,
   "id": "2652800d",
   "metadata": {},
   "outputs": [],
   "source": []
  },
  {
   "cell_type": "code",
   "execution_count": null,
   "id": "808ca753",
   "metadata": {},
   "outputs": [],
   "source": []
  }
 ],
 "metadata": {
  "kernelspec": {
   "display_name": "Python 3 (ipykernel)",
   "language": "python",
   "name": "python3"
  },
  "language_info": {
   "codemirror_mode": {
    "name": "ipython",
    "version": 3
   },
   "file_extension": ".py",
   "mimetype": "text/x-python",
   "name": "python",
   "nbconvert_exporter": "python",
   "pygments_lexer": "ipython3",
   "version": "3.7.13"
  }
 },
 "nbformat": 4,
 "nbformat_minor": 5
}
