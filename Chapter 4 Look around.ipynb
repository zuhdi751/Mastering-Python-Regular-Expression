{
 "cells": [
  {
   "cell_type": "markdown",
   "id": "ee165fcd",
   "metadata": {},
   "source": [
    "to practice regex in an interactive GUI software, do it in this website.\n",
    "https://regex101.com/ and https://regexr.com/"
   ]
  },
  {
   "cell_type": "markdown",
   "id": "53d93d9f",
   "metadata": {},
   "source": [
    "# Chapter 4 Look Around"
   ]
  },
  {
   "cell_type": "markdown",
   "id": "d676fd7d",
   "metadata": {},
   "source": [
    "Until this point, we have learned different mechanisms of matching characters while discarding them. A character that is already matched cannot be compared again, and the only way to match any upcoming character is by discarding it."
   ]
  },
  {
   "cell_type": "markdown",
   "id": "f241da49",
   "metadata": {},
   "source": [
    "The exceptions to this are a number of metacharacters we have studied, the so-called **zero-width assertions**. These characters indicate positions rather than actual content. For instance, the caret symbol (^) is a representation of the beginning of a line or the dollar sign ($) for the end of a line. They just ensure that the position in the input is correct without actually consuming or matching any character.\n",
    "\n",
    "A more powerful kind of zero-width assertion is **look around**, a mechanism with which it is possible *to match a certain previous* (**look behind**) or *ulterior* (**look ahead**) value to the current position. They effectively do assertion without consuming characters; they just return a positive or negative result of the match.\n",
    "\n",
    "The look around mechanism is probably the most unknown and at the same time  \n",
    "the most powerful technique in regular expressions. This mechanism allows us to \n",
    "create powerful regular expressions that cannot be written otherwise, either because of the complexity it would represent or just because of technical limitations of regular expressions without look around."
   ]
  },
  {
   "cell_type": "markdown",
   "id": "509e407a",
   "metadata": {},
   "source": [
    "Both look ahead and look behind could be subdivided into another two types each: positive and negative:\n",
    "-  Positive look ahead: This mechanism is represented as an expression preceded by a question mark and an equals sign, ```?=```, inside a parenthesis block. For example, ```(?=regex)``` will match if the passed regex do match against the forthcoming input.\n",
    "-  Negative look ahead: This mechanism is specifed as an expression preceded by a question mark and an exclamation mark, ```?!```, inside a parenthesis block. For example, ```'(?!regex')``` will match if the passed regex do not match against the forthcoming input.\n",
    "-  Positive look behind: This mechanism is represented as an expression preceded by a question mark, a less-than sign, and an equals sign, ```?<=```, inside a parenthesis block. For example, ```'(?<=regex)'``` will match if the passed regex do match against the previous input.\n",
    "-  Negative look behind: This mechanism is represented as an expression preceded by a question mark, a less-than sign, and an exclamation mark, ```?<!```, inside a parenthesis block. For example, ```(?<!regex')``` will match if the passed regex do not match against the previous input. \n",
    "\n",
    "Let's start looking forward to the next section."
   ]
  },
  {
   "cell_type": "markdown",
   "id": "54ea6e51",
   "metadata": {},
   "source": [
    "- Positive look ahead: Mekanisme ini direpresentasikan sebagai ekspresi yang didahului oleh tanda tanya dan tanda sama dengan, ```?=```, di dalam blok kurung. Misalnya, ```'(?=regex')``` akan cocok jika regex yang diteruskan cocok dengan input yang akan datang.\n",
    "- Positive look behind: Mekanisme ini direpresentasikan sebagai ekspresi yang didahului oleh tanda tanya, tanda kurang dari, dan tanda sama dengan, ```?<=```, di dalam blok kurung. Misalnya, ```'(?<=regex)'``` akan cocok jika ekspresi reguler yang diteruskan cocok dengan input sebelumnya."
   ]
  },
  {
   "cell_type": "markdown",
   "id": "68f59c3d",
   "metadata": {},
   "source": [
    "# Look ahead"
   ]
  },
  {
   "cell_type": "markdown",
   "id": "07afda21",
   "metadata": {},
   "source": [
    "The frst type of look around mechanism that we are going to study is **the look ahead** mechanism. It tries to match ahead the subexpression passed as an argument. The zero-width nature of the two look around operations render them complex and \n",
    "diffcult to understand"
   ]
  },
  {
   "cell_type": "markdown",
   "id": "7ffc7cae",
   "metadata": {},
   "source": [
    "As we know from the previous section, it is represented as an expression preceded by a question mark and an equals sign, ```?=```, inside a parenthesis block: ```(?=regex)```."
   ]
  },
  {
   "cell_type": "markdown",
   "id": "cdbd02db",
   "metadata": {},
   "source": [
    "Let's start tackling this by comparing the result of the two similar regular \n",
    "expressions. We can recall that in Chapter 1, Introducing Regular Expressions, we matched the expression ```'fox'``` to the phrase ```The quick brown fox jumps over \n",
    "the lazy dog```. Let's also apply the expression ```'(?=fox)'``` to the same input:"
   ]
  },
  {
   "cell_type": "code",
   "execution_count": 2,
   "id": "9fbce925",
   "metadata": {},
   "outputs": [],
   "source": [
    "import re"
   ]
  },
  {
   "cell_type": "code",
   "execution_count": 4,
   "id": "9f03ebdc",
   "metadata": {},
   "outputs": [],
   "source": [
    "string = r'The quick brown fox jumps over the lazy dog'"
   ]
  },
  {
   "cell_type": "code",
   "execution_count": 3,
   "id": "96f037ee",
   "metadata": {},
   "outputs": [],
   "source": [
    "pattern1 = re.compile(r'fox')"
   ]
  },
  {
   "cell_type": "code",
   "execution_count": 5,
   "id": "9e1b4b84",
   "metadata": {},
   "outputs": [],
   "source": [
    "result = pattern1.search(string)"
   ]
  },
  {
   "cell_type": "code",
   "execution_count": 6,
   "id": "75e6336f",
   "metadata": {},
   "outputs": [
    {
     "data": {
      "text/plain": [
       "<re.Match object; span=(16, 19), match='fox'>"
      ]
     },
     "execution_count": 6,
     "metadata": {},
     "output_type": "execute_result"
    }
   ],
   "source": [
    "result"
   ]
  },
  {
   "cell_type": "code",
   "execution_count": 7,
   "id": "c1125d11",
   "metadata": {},
   "outputs": [
    {
     "name": "stdout",
     "output_type": "stream",
     "text": [
      "16 19\n"
     ]
    }
   ],
   "source": [
    "print(result.start(), result.end())"
   ]
  },
  {
   "cell_type": "markdown",
   "id": "44e99052",
   "metadata": {},
   "source": [
    "We just searched the literal fox in the input string, and just as expected we have found it between the index 16 and 19. Let's see the following example of the look ahead mechanism:"
   ]
  },
  {
   "cell_type": "code",
   "execution_count": 8,
   "id": "a1b7786e",
   "metadata": {},
   "outputs": [],
   "source": [
    "pattern2 = re.compile(r'(?=fox)')"
   ]
  },
  {
   "cell_type": "code",
   "execution_count": 9,
   "id": "ecffa6cd",
   "metadata": {},
   "outputs": [
    {
     "data": {
      "text/plain": [
       "<re.Match object; span=(16, 16), match=''>"
      ]
     },
     "execution_count": 9,
     "metadata": {},
     "output_type": "execute_result"
    }
   ],
   "source": [
    "result2 = pattern2.search(string)\n",
    "result2"
   ]
  },
  {
   "cell_type": "code",
   "execution_count": 10,
   "id": "62a6dfb3",
   "metadata": {},
   "outputs": [
    {
     "name": "stdout",
     "output_type": "stream",
     "text": [
      "16 16\n"
     ]
    }
   ],
   "source": [
    "print(result2.start(), result2.end())"
   ]
  },
  {
   "cell_type": "markdown",
   "id": "2c84b6df",
   "metadata": {},
   "source": [
    "This time we have applied the expression ```'(?=fox)'``` instead. The result has been \n",
    "just a position at the index 16 (both the start and end point to the same index). This is because **look around does not consume characters**, and therefore, it can be used to filter **where the expression should match**. However, it will not define the contents of the result."
   ]
  },
  {
   "cell_type": "markdown",
   "id": "b033807f",
   "metadata": {},
   "source": [
    "Let's use this feature again to try and match any word that is followed by a comma character (,) using the following regular expression ```'\\w+(?=,)'``` and the text ```They were three: Felix, Victor, and Carlos.```:"
   ]
  },
  {
   "cell_type": "code",
   "execution_count": 11,
   "id": "5c5e8f2f",
   "metadata": {},
   "outputs": [],
   "source": [
    "pattern3 = re.compile('\\w+(?=,)')"
   ]
  },
  {
   "cell_type": "code",
   "execution_count": 17,
   "id": "304dfccb",
   "metadata": {},
   "outputs": [
    {
     "data": {
      "text/plain": [
       "['Felix', 'Victor']"
      ]
     },
     "execution_count": 17,
     "metadata": {},
     "output_type": "execute_result"
    }
   ],
   "source": [
    "pattern3.findall('They were three: Felix, Victor, and Carlos.')"
   ]
  },
  {
   "cell_type": "markdown",
   "id": "c281db06",
   "metadata": {},
   "source": [
    "We created a regular expression that accepts any repetition of alphanumeric characters followed by a comma character that is not going to be used as a part of the result. Therefore, only Felix and Victor were part of the result as Carlos didn't have a comma after the name."
   ]
  },
  {
   "cell_type": "markdown",
   "id": "7743d909",
   "metadata": {},
   "source": [
    "How different was this compared to the use of the regular expressions we have up to this chapter? Let's compare the results by applying ```'\\w+,'``` to the same text:"
   ]
  },
  {
   "cell_type": "code",
   "execution_count": 20,
   "id": "901408e0",
   "metadata": {},
   "outputs": [],
   "source": [
    "pattern4 = re.compile('\\w+,')"
   ]
  },
  {
   "cell_type": "code",
   "execution_count": 21,
   "id": "892f7311",
   "metadata": {},
   "outputs": [
    {
     "data": {
      "text/plain": [
       "['Felix,', 'Victor,']"
      ]
     },
     "execution_count": 21,
     "metadata": {},
     "output_type": "execute_result"
    }
   ],
   "source": [
    "pattern4.findall('They were three: Felix, Victor, and Carlos.')"
   ]
  },
  {
   "cell_type": "markdown",
   "id": "e75e7885",
   "metadata": {},
   "source": [
    "With the preceding regular expressions, we asked the regular expression engine to accept any repetition of alphanumeric characters followed by a comma character. Therefore, *the alphanumeric characters and the comma character* will be returned, as we can see in the listing."
   ]
  },
  {
   "cell_type": "markdown",
   "id": "0df4729e",
   "metadata": {},
   "source": [
    "It's noteworthy that *the look ahead mechanism is another subexpression* that can be leveraged with all the power of regular expressions (it's not the same case for the look behind mechanism as we will discover later). Therefore, we can use all the constructions we learned so far as the alternation:"
   ]
  },
  {
   "cell_type": "code",
   "execution_count": 22,
   "id": "d705df01",
   "metadata": {},
   "outputs": [],
   "source": [
    "pattern5 = re.compile(r'\\w+(?=,|\\.)')"
   ]
  },
  {
   "cell_type": "code",
   "execution_count": 23,
   "id": "236718a6",
   "metadata": {},
   "outputs": [
    {
     "data": {
      "text/plain": [
       "['Felix', 'Victor', 'Carlos']"
      ]
     },
     "execution_count": 23,
     "metadata": {},
     "output_type": "execute_result"
    }
   ],
   "source": [
    "pattern5.findall('They were three: Felix, Victor, and Carlos.')"
   ]
  },
  {
   "cell_type": "markdown",
   "id": "7477029f",
   "metadata": {},
   "source": [
    "In the preceding example, we used alternation (even though we could have used other simpler techniques as a character set) to accept any repetition of alphanumeric characters followed by a comma or dot character that is not going to be used as a part of the result."
   ]
  },
  {
   "cell_type": "code",
   "execution_count": 24,
   "id": "0214fd3f",
   "metadata": {},
   "outputs": [
    {
     "data": {
      "text/plain": [
       "['Felix', 'Victor', 'Carlos']"
      ]
     },
     "execution_count": 24,
     "metadata": {},
     "output_type": "execute_result"
    }
   ],
   "source": [
    "# instead of using alteration |, we will try to use character set\n",
    "pattern6 = re.compile(r'\\w+(?=[,\\.])')\n",
    "\n",
    "pattern6.findall('They were three: Felix, Victor, and Carlos.')"
   ]
  },
  {
   "cell_type": "markdown",
   "id": "82312836",
   "metadata": {},
   "source": [
    "# Negative look ahead"
   ]
  },
  {
   "cell_type": "markdown",
   "id": "fbd7b5a9",
   "metadata": {},
   "source": [
    "The negative look ahead mechanism presents the same nature of the look ahead but with a notable distinction: **the result will be valid only if the subexpression doesn't match**."
   ]
  },
  {
   "cell_type": "markdown",
   "id": "4fb8510e",
   "metadata": {},
   "source": [
    "It is represented as an expression preceded by a question mark and an exclamation mark, ```?!```, inside a parenthesis block: ```(?!regex)```."
   ]
  },
  {
   "cell_type": "markdown",
   "id": "837d8fd5",
   "metadata": {},
   "source": [
    "This is useful when we want *to express what should not happen*. For instance, to fnd any name ```John``` that is not ```John Smith```, we could do the following:"
   ]
  },
  {
   "cell_type": "code",
   "execution_count": 25,
   "id": "a5cf58b1",
   "metadata": {},
   "outputs": [],
   "source": [
    "pattern_neg_la1 = re.compile(r'John(?!\\sSmith)')"
   ]
  },
  {
   "cell_type": "code",
   "execution_count": 89,
   "id": "d7dd7fc7",
   "metadata": {
    "scrolled": true
   },
   "outputs": [
    {
     "name": "stdout",
     "output_type": "stream",
     "text": [
      "<re.Match object; span=(27, 31), match='John'>\n",
      "27 31\n",
      "<re.Match object; span=(63, 67), match='John'>\n",
      "63 67\n"
     ]
    }
   ],
   "source": [
    "result = pattern_neg_la1.finditer(\"I would rather go out with John McLane than with John Smith or John Bon Jovi\")\n",
    "\n",
    "for i in result:\n",
    "    print(i)\n",
    "    print(i.start(), i.end())"
   ]
  },
  {
   "cell_type": "code",
   "execution_count": 28,
   "id": "6519eb00",
   "metadata": {},
   "outputs": [
    {
     "data": {
      "text/plain": [
       "['John', 'John']"
      ]
     },
     "execution_count": 28,
     "metadata": {},
     "output_type": "execute_result"
    }
   ],
   "source": [
    "re.findall(pattern_neg_la1, \"I would rather go out with John McLane than with John Smith or John Bon Jovi\" )"
   ]
  },
  {
   "cell_type": "code",
   "execution_count": 33,
   "id": "8d1ac34a",
   "metadata": {},
   "outputs": [
    {
     "data": {
      "text/plain": [
       "(27, 31)"
      ]
     },
     "execution_count": 33,
     "metadata": {},
     "output_type": "execute_result"
    }
   ],
   "source": [
    "re.search(pattern_neg_la1, \"I would rather go out with John McLane than with John Smith or John Bon Jovi\" ).span()"
   ]
  },
  {
   "cell_type": "code",
   "execution_count": 38,
   "id": "e39aef38",
   "metadata": {},
   "outputs": [
    {
     "name": "stdout",
     "output_type": "stream",
     "text": [
      "<re.Match object; span=(27, 31), match='John'>\n",
      "<re.Match object; span=(63, 67), match='John'>\n"
     ]
    }
   ],
   "source": [
    "results = re.finditer(pattern_neg_la1, \"I would rather go out with John McLane than with John Smith or John Bon Jovi\")\n",
    "\n",
    "for i in results:\n",
    "    print(i)"
   ]
  },
  {
   "cell_type": "markdown",
   "id": "32700a2e",
   "metadata": {},
   "source": [
    "In the preceding example, we looked for John by consuming these five characters \n",
    "and then looked ahead for a whitespace character followed by the word Smith. In \n",
    "case of a match, the match will contain only the starting and end position of John. In this case, the positions are 27-31 for John McLane and 63-67 for John Bon Jovi.\n",
    "\n",
    "Now, we are able to leverage the more basic forms of look around: the positive and negative look ahead. Let's learn how to get the most of it in substitutions and groups."
   ]
  },
  {
   "cell_type": "markdown",
   "id": "ed79e4e3",
   "metadata": {},
   "source": [
    "# Look around and substitutions"
   ]
  },
  {
   "cell_type": "markdown",
   "id": "384c856b",
   "metadata": {},
   "source": [
    "The zero-width nature of the look around operation is especially useful in substitutions. Thanks to them, we are able to perform transformations that would otherwise be extremely complex to read and write."
   ]
  },
  {
   "cell_type": "markdown",
   "id": "df695f6d",
   "metadata": {},
   "source": [
    "**One typical example of look ahead and substitutions** would be the conversion of a number composed of just numeric characters, such as ```1234567890```, into a comma separated number, that is, ```1,234,567,890```."
   ]
  },
  {
   "cell_type": "markdown",
   "id": "99bf79f3",
   "metadata": {},
   "source": [
    "In order to write this regular expression, we will need a strategy to follow. What we want to do is group the numbers in blocks of three that will then be substituted by the same group plus a comma character."
   ]
  },
  {
   "cell_type": "markdown",
   "id": "9ab7bd13",
   "metadata": {},
   "source": [
    "We can easily start with an almost naive approach with the following highlighted regular expression:"
   ]
  },
  {
   "cell_type": "code",
   "execution_count": 42,
   "id": "f510a447",
   "metadata": {},
   "outputs": [],
   "source": [
    "pattern_la_subs1 = re.compile(r'\\d{1,3}')"
   ]
  },
  {
   "cell_type": "code",
   "execution_count": 43,
   "id": "b0b44306",
   "metadata": {},
   "outputs": [
    {
     "data": {
      "text/plain": [
       "['123', '455', '678', '90']"
      ]
     },
     "execution_count": 43,
     "metadata": {},
     "output_type": "execute_result"
    }
   ],
   "source": [
    "pattern_la_subs1.findall(\"The number is: 12345567890\")"
   ]
  },
  {
   "cell_type": "markdown",
   "id": "5b8fa53b",
   "metadata": {},
   "source": [
    "We have failed in this attempt. We are effectively grouping in blocks of three \n",
    "numbers, but they should be taken from the right to the left. We need a different approach. Let's try to fnd one, two, or three digits that have to be followed by any number of blocks of three digits until we fnd something that is not a digit."
   ]
  },
  {
   "cell_type": "markdown",
   "id": "8557a42d",
   "metadata": {},
   "source": [
    "This will have the following effect on our number. When trying to find one, two, or three digits, the regular expression will start taking just one, and this will be the number 1. Then, it will try to catch blocks of exactly three numbers, for example, 234, 567, 890, until it finds a non-digit. This is the end of the input."
   ]
  },
  {
   "cell_type": "markdown",
   "id": "ab184c2e",
   "metadata": {},
   "source": [
    "If we express in a regular expression what we have just explained in plain English, we will obtain the following:\n",
    "\n",
    "```'\\d{1,3}(?=(\\d{3})+(?!\\d))'```"
   ]
  },
  {
   "cell_type": "markdown",
   "id": "8157b229",
   "metadata": {},
   "source": [
    "|Element |Description|\n",
    "| :- | :- |\n",
    "|\\d |This matches a decimal character |\n",
    "|{1,3} |This indicates that the match is repeated between one and threetimes |\n",
    "|(?= |This indicates that the character is followed by (but not consuming) this expression |\n",
    "|( | This indicates a group |\n",
    "|\\d |This indicates that there is a group of decimal characters |\n",
    "|{3} |This indicates that the match is repeated three times |\n",
    "|)  |\n",
    "|+  |This indicates that the decimal character should appear one or more times|\n",
    "|(?!|This indicates that the match is not followed by (but not consuming) what the following expression defines |\n",
    "|\\d |This indicates a decimal character |\n",
    "))"
   ]
  },
  {
   "cell_type": "markdown",
   "id": "d84b3d79",
   "metadata": {},
   "source": [
    "Let's try again with this new regular expression in Python's console:"
   ]
  },
  {
   "cell_type": "code",
   "execution_count": 86,
   "id": "236f199e",
   "metadata": {},
   "outputs": [
    {
     "name": "stdout",
     "output_type": "stream",
     "text": [
      "<re.Match object; span=(0, 1), match='1'>\n",
      "0 1\n",
      "<re.Match object; span=(1, 4), match='234'>\n",
      "1 4\n",
      "<re.Match object; span=(4, 7), match='567'>\n",
      "4 7\n"
     ]
    }
   ],
   "source": [
    "pattern_la_subs2 = re.compile(r'\\d{1,3}(?=(\\d{3})+(?!\\d))')\n",
    "results2 = pattern_la_subs2.finditer('1234567890')\n",
    "\n",
    "for i in results2:\n",
    "    print(i)\n",
    "    print(i.start(), i.end())"
   ]
  },
  {
   "cell_type": "code",
   "execution_count": 53,
   "id": "b723b2f2",
   "metadata": {},
   "outputs": [],
   "source": [
    "# try this one to find all matched character from the string\n",
    "# re.search(pattern_la_subs2, '1234567890')"
   ]
  },
  {
   "cell_type": "markdown",
   "id": "bdbbf492",
   "metadata": {},
   "source": [
    "This time, we can see that we are using the right approach as we have just identifed the correct blocks: ```1```, ```234```, ```567```, and ```890```."
   ]
  },
  {
   "cell_type": "markdown",
   "id": "15a886a4",
   "metadata": {},
   "source": [
    "Now, we just need to use a substitution to substitute each of the matches we have found for the same match result plus a comma character. We already know how to use substitutions as we learned it in *Chapter 2, Regular Expressions with Python*, so let's just put it into practice"
   ]
  },
  {
   "cell_type": "code",
   "execution_count": 54,
   "id": "71cfa5a9",
   "metadata": {},
   "outputs": [
    {
     "data": {
      "text/plain": [
       "'1,234,567,890'"
      ]
     },
     "execution_count": 54,
     "metadata": {},
     "output_type": "execute_result"
    }
   ],
   "source": [
    "pattern_la_subs2 = re.compile(r'\\d{1,3}(?=(\\d{3})+(?!\\d))')\n",
    "pattern_la_subs2.sub(r'\\g<0>,', \"1234567890\")"
   ]
  },
  {
   "cell_type": "markdown",
   "id": "adf37f9a",
   "metadata": {},
   "source": [
    "Et voila! We have just transformed an unformatted number into a beautiful number with a thousand separators."
   ]
  },
  {
   "cell_type": "markdown",
   "id": "0fb057f7",
   "metadata": {},
   "source": [
    "We have just learned the two techniques to look ahead and foresee what is coming. We have also studied their usage in substitutions. Now, let's turn our head back to see what we have left behind **look behind**."
   ]
  },
  {
   "cell_type": "markdown",
   "id": "52005866",
   "metadata": {},
   "source": [
    "# Look behind"
   ]
  },
  {
   "cell_type": "markdown",
   "id": "e7c58410",
   "metadata": {},
   "source": [
    "We could safely define look behind as the opposite operation to look ahead. It tries to match behind the subexpression passed as an argument. It has a zero width nature as well, and therefore, it won't be part of the result.\n",
    "\n",
    "It is represented as an expression preceded by a question mark, a less-than sign, and an equals sign, ```?<=```, inside a parenthesis block: ```(?<=regex)```."
   ]
  },
  {
   "cell_type": "markdown",
   "id": "d6006740",
   "metadata": {},
   "source": [
    "We could, for instance, use it in an example similar to the one we used in negative look ahead to find *just the surname of someone named John McLane*. To accomplish this, we could write a look behind like the following:"
   ]
  },
  {
   "cell_type": "code",
   "execution_count": 55,
   "id": "d534628f",
   "metadata": {},
   "outputs": [],
   "source": [
    "pattern_lb1 = re.compile(r'(?<=John\\s)McLane')"
   ]
  },
  {
   "cell_type": "code",
   "execution_count": 59,
   "id": "1eb948a4",
   "metadata": {},
   "outputs": [
    {
     "name": "stdout",
     "output_type": "stream",
     "text": [
      "<re.Match object; span=(32, 38), match='McLane'>\n",
      "32 38\n"
     ]
    }
   ],
   "source": [
    "result_lb1 = pattern_lb1.finditer(\"I would rather go out with John McLane than with John Smith or John Bon Jovi\")\n",
    "\n",
    "for i in result_lb1:\n",
    "    print(i)\n",
    "    print(i.start(), i.end())"
   ]
  },
  {
   "cell_type": "markdown",
   "id": "5a96ea97",
   "metadata": {},
   "source": [
    "**With the preceding look behind, we requested the regex engine to match *only positions that are preceded with ```John``` and a whitespace* to then consume ```McLane``` as a result.**"
   ]
  },
  {
   "cell_type": "markdown",
   "id": "84594dee",
   "metadata": {},
   "source": [
    "In Python's re module, there is, however, a fundamental difference between how \n",
    "look ahead and look behind are implemented. Due to a number of deeply rooted \n",
    "technical reasons, the look behind mechanism is only able to match fxed-width \n",
    "patterns. If variable-width patterns in look behind are required, the regex module at https://pypi.python.org/pypi/regex can be leveraged instead of the standard Python re module."
   ]
  },
  {
   "cell_type": "markdown",
   "id": "82b027c3",
   "metadata": {},
   "source": [
    "Fixed-width patterns don't contain variable-length matchers such as the quantifers we studied in *Chapter 1, Introducing Regular Expressions*. Other variable-length constructions such as back references aren't allowed either. Alternation is allowed but only if the alternatives have the same length. Again, these limitations are not present in the aforementioned regex module."
   ]
  },
  {
   "cell_type": "markdown",
   "id": "7c1e1e86",
   "metadata": {},
   "source": [
    "Let's see what'll happen if we use an alternation with different length alternatives in a back reference:"
   ]
  },
  {
   "cell_type": "code",
   "execution_count": 60,
   "id": "7c9522e0",
   "metadata": {},
   "outputs": [
    {
     "ename": "error",
     "evalue": "look-behind requires fixed-width pattern",
     "output_type": "error",
     "traceback": [
      "\u001b[1;31m---------------------------------------------------------------------------\u001b[0m",
      "\u001b[1;31merror\u001b[0m                                     Traceback (most recent call last)",
      "\u001b[1;32m~\\AppData\\Local\\Temp\\ipykernel_1416\\1448487768.py\u001b[0m in \u001b[0;36m<module>\u001b[1;34m\u001b[0m\n\u001b[1;32m----> 1\u001b[1;33m \u001b[0mpattern_lb2\u001b[0m \u001b[1;33m=\u001b[0m \u001b[0mre\u001b[0m\u001b[1;33m.\u001b[0m\u001b[0mcompile\u001b[0m\u001b[1;33m(\u001b[0m\u001b[1;34mr'(?<=(John|Jonathan)\\s)McLane'\u001b[0m\u001b[1;33m)\u001b[0m\u001b[1;33m\u001b[0m\u001b[1;33m\u001b[0m\u001b[0m\n\u001b[0m",
      "\u001b[1;32m~\\anaconda3\\envs\\py37_env\\lib\\re.py\u001b[0m in \u001b[0;36mcompile\u001b[1;34m(pattern, flags)\u001b[0m\n\u001b[0;32m    234\u001b[0m \u001b[1;32mdef\u001b[0m \u001b[0mcompile\u001b[0m\u001b[1;33m(\u001b[0m\u001b[0mpattern\u001b[0m\u001b[1;33m,\u001b[0m \u001b[0mflags\u001b[0m\u001b[1;33m=\u001b[0m\u001b[1;36m0\u001b[0m\u001b[1;33m)\u001b[0m\u001b[1;33m:\u001b[0m\u001b[1;33m\u001b[0m\u001b[1;33m\u001b[0m\u001b[0m\n\u001b[0;32m    235\u001b[0m     \u001b[1;34m\"Compile a regular expression pattern, returning a Pattern object.\"\u001b[0m\u001b[1;33m\u001b[0m\u001b[1;33m\u001b[0m\u001b[0m\n\u001b[1;32m--> 236\u001b[1;33m     \u001b[1;32mreturn\u001b[0m \u001b[0m_compile\u001b[0m\u001b[1;33m(\u001b[0m\u001b[0mpattern\u001b[0m\u001b[1;33m,\u001b[0m \u001b[0mflags\u001b[0m\u001b[1;33m)\u001b[0m\u001b[1;33m\u001b[0m\u001b[1;33m\u001b[0m\u001b[0m\n\u001b[0m\u001b[0;32m    237\u001b[0m \u001b[1;33m\u001b[0m\u001b[0m\n\u001b[0;32m    238\u001b[0m \u001b[1;32mdef\u001b[0m \u001b[0mpurge\u001b[0m\u001b[1;33m(\u001b[0m\u001b[1;33m)\u001b[0m\u001b[1;33m:\u001b[0m\u001b[1;33m\u001b[0m\u001b[1;33m\u001b[0m\u001b[0m\n",
      "\u001b[1;32m~\\anaconda3\\envs\\py37_env\\lib\\re.py\u001b[0m in \u001b[0;36m_compile\u001b[1;34m(pattern, flags)\u001b[0m\n\u001b[0;32m    286\u001b[0m     \u001b[1;32mif\u001b[0m \u001b[1;32mnot\u001b[0m \u001b[0msre_compile\u001b[0m\u001b[1;33m.\u001b[0m\u001b[0misstring\u001b[0m\u001b[1;33m(\u001b[0m\u001b[0mpattern\u001b[0m\u001b[1;33m)\u001b[0m\u001b[1;33m:\u001b[0m\u001b[1;33m\u001b[0m\u001b[1;33m\u001b[0m\u001b[0m\n\u001b[0;32m    287\u001b[0m         \u001b[1;32mraise\u001b[0m \u001b[0mTypeError\u001b[0m\u001b[1;33m(\u001b[0m\u001b[1;34m\"first argument must be string or compiled pattern\"\u001b[0m\u001b[1;33m)\u001b[0m\u001b[1;33m\u001b[0m\u001b[1;33m\u001b[0m\u001b[0m\n\u001b[1;32m--> 288\u001b[1;33m     \u001b[0mp\u001b[0m \u001b[1;33m=\u001b[0m \u001b[0msre_compile\u001b[0m\u001b[1;33m.\u001b[0m\u001b[0mcompile\u001b[0m\u001b[1;33m(\u001b[0m\u001b[0mpattern\u001b[0m\u001b[1;33m,\u001b[0m \u001b[0mflags\u001b[0m\u001b[1;33m)\u001b[0m\u001b[1;33m\u001b[0m\u001b[1;33m\u001b[0m\u001b[0m\n\u001b[0m\u001b[0;32m    289\u001b[0m     \u001b[1;32mif\u001b[0m \u001b[1;32mnot\u001b[0m \u001b[1;33m(\u001b[0m\u001b[0mflags\u001b[0m \u001b[1;33m&\u001b[0m \u001b[0mDEBUG\u001b[0m\u001b[1;33m)\u001b[0m\u001b[1;33m:\u001b[0m\u001b[1;33m\u001b[0m\u001b[1;33m\u001b[0m\u001b[0m\n\u001b[0;32m    290\u001b[0m         \u001b[1;32mif\u001b[0m \u001b[0mlen\u001b[0m\u001b[1;33m(\u001b[0m\u001b[0m_cache\u001b[0m\u001b[1;33m)\u001b[0m \u001b[1;33m>=\u001b[0m \u001b[0m_MAXCACHE\u001b[0m\u001b[1;33m:\u001b[0m\u001b[1;33m\u001b[0m\u001b[1;33m\u001b[0m\u001b[0m\n",
      "\u001b[1;32m~\\anaconda3\\envs\\py37_env\\lib\\sre_compile.py\u001b[0m in \u001b[0;36mcompile\u001b[1;34m(p, flags)\u001b[0m\n\u001b[0;32m    766\u001b[0m         \u001b[0mpattern\u001b[0m \u001b[1;33m=\u001b[0m \u001b[1;32mNone\u001b[0m\u001b[1;33m\u001b[0m\u001b[1;33m\u001b[0m\u001b[0m\n\u001b[0;32m    767\u001b[0m \u001b[1;33m\u001b[0m\u001b[0m\n\u001b[1;32m--> 768\u001b[1;33m     \u001b[0mcode\u001b[0m \u001b[1;33m=\u001b[0m \u001b[0m_code\u001b[0m\u001b[1;33m(\u001b[0m\u001b[0mp\u001b[0m\u001b[1;33m,\u001b[0m \u001b[0mflags\u001b[0m\u001b[1;33m)\u001b[0m\u001b[1;33m\u001b[0m\u001b[1;33m\u001b[0m\u001b[0m\n\u001b[0m\u001b[0;32m    769\u001b[0m \u001b[1;33m\u001b[0m\u001b[0m\n\u001b[0;32m    770\u001b[0m     \u001b[1;32mif\u001b[0m \u001b[0mflags\u001b[0m \u001b[1;33m&\u001b[0m \u001b[0mSRE_FLAG_DEBUG\u001b[0m\u001b[1;33m:\u001b[0m\u001b[1;33m\u001b[0m\u001b[1;33m\u001b[0m\u001b[0m\n",
      "\u001b[1;32m~\\anaconda3\\envs\\py37_env\\lib\\sre_compile.py\u001b[0m in \u001b[0;36m_code\u001b[1;34m(p, flags)\u001b[0m\n\u001b[0;32m    605\u001b[0m \u001b[1;33m\u001b[0m\u001b[0m\n\u001b[0;32m    606\u001b[0m     \u001b[1;31m# compile the pattern\u001b[0m\u001b[1;33m\u001b[0m\u001b[1;33m\u001b[0m\u001b[1;33m\u001b[0m\u001b[0m\n\u001b[1;32m--> 607\u001b[1;33m     \u001b[0m_compile\u001b[0m\u001b[1;33m(\u001b[0m\u001b[0mcode\u001b[0m\u001b[1;33m,\u001b[0m \u001b[0mp\u001b[0m\u001b[1;33m.\u001b[0m\u001b[0mdata\u001b[0m\u001b[1;33m,\u001b[0m \u001b[0mflags\u001b[0m\u001b[1;33m)\u001b[0m\u001b[1;33m\u001b[0m\u001b[1;33m\u001b[0m\u001b[0m\n\u001b[0m\u001b[0;32m    608\u001b[0m \u001b[1;33m\u001b[0m\u001b[0m\n\u001b[0;32m    609\u001b[0m     \u001b[0mcode\u001b[0m\u001b[1;33m.\u001b[0m\u001b[0mappend\u001b[0m\u001b[1;33m(\u001b[0m\u001b[0mSUCCESS\u001b[0m\u001b[1;33m)\u001b[0m\u001b[1;33m\u001b[0m\u001b[1;33m\u001b[0m\u001b[0m\n",
      "\u001b[1;32m~\\anaconda3\\envs\\py37_env\\lib\\sre_compile.py\u001b[0m in \u001b[0;36m_compile\u001b[1;34m(code, pattern, flags)\u001b[0m\n\u001b[0;32m    180\u001b[0m                 \u001b[0mlo\u001b[0m\u001b[1;33m,\u001b[0m \u001b[0mhi\u001b[0m \u001b[1;33m=\u001b[0m \u001b[0mav\u001b[0m\u001b[1;33m[\u001b[0m\u001b[1;36m1\u001b[0m\u001b[1;33m]\u001b[0m\u001b[1;33m.\u001b[0m\u001b[0mgetwidth\u001b[0m\u001b[1;33m(\u001b[0m\u001b[1;33m)\u001b[0m\u001b[1;33m\u001b[0m\u001b[1;33m\u001b[0m\u001b[0m\n\u001b[0;32m    181\u001b[0m                 \u001b[1;32mif\u001b[0m \u001b[0mlo\u001b[0m \u001b[1;33m!=\u001b[0m \u001b[0mhi\u001b[0m\u001b[1;33m:\u001b[0m\u001b[1;33m\u001b[0m\u001b[1;33m\u001b[0m\u001b[0m\n\u001b[1;32m--> 182\u001b[1;33m                     \u001b[1;32mraise\u001b[0m \u001b[0merror\u001b[0m\u001b[1;33m(\u001b[0m\u001b[1;34m\"look-behind requires fixed-width pattern\"\u001b[0m\u001b[1;33m)\u001b[0m\u001b[1;33m\u001b[0m\u001b[1;33m\u001b[0m\u001b[0m\n\u001b[0m\u001b[0;32m    183\u001b[0m                 \u001b[0memit\u001b[0m\u001b[1;33m(\u001b[0m\u001b[0mlo\u001b[0m\u001b[1;33m)\u001b[0m \u001b[1;31m# look behind\u001b[0m\u001b[1;33m\u001b[0m\u001b[1;33m\u001b[0m\u001b[0m\n\u001b[0;32m    184\u001b[0m             \u001b[0m_compile\u001b[0m\u001b[1;33m(\u001b[0m\u001b[0mcode\u001b[0m\u001b[1;33m,\u001b[0m \u001b[0mav\u001b[0m\u001b[1;33m[\u001b[0m\u001b[1;36m1\u001b[0m\u001b[1;33m]\u001b[0m\u001b[1;33m,\u001b[0m \u001b[0mflags\u001b[0m\u001b[1;33m)\u001b[0m\u001b[1;33m\u001b[0m\u001b[1;33m\u001b[0m\u001b[0m\n",
      "\u001b[1;31merror\u001b[0m: look-behind requires fixed-width pattern"
     ]
    }
   ],
   "source": [
    "pattern_lb2 = re.compile(r'(?<=(John|Jonathan)\\s)McLane')"
   ]
  },
  {
   "cell_type": "markdown",
   "id": "8e2088fe",
   "metadata": {},
   "source": [
    "We've got an exception as look behind requires a fxed-width pattern. We will get a similar result if we try to apply quantifers or other variable-length constructions."
   ]
  },
  {
   "cell_type": "markdown",
   "id": "5ca05c41",
   "metadata": {},
   "source": [
    "Now that we have learned different techniques to match ahead or behind without \n",
    "consuming characters and the different limitations we might have, we can try to \n",
    "write another example that embraces a few of the mechanisms **that we have studied to solve a real-world problem**."
   ]
  },
  {
   "cell_type": "markdown",
   "id": "0d3d81e3",
   "metadata": {},
   "source": [
    "Let's assume that we want to extract any Twitter username that is present in a tweet in order to create an automatic mood detection system. To write a regular expression in order to extract them, we should start by identifying how a Twitter username is represented. If we browse the Twitter's site https://support.twitter.com/articles/101299-why-can-t-i-register-certain-usernames, we might find the following description:\n",
    "\n",
    "```\"A username can only contain alphanumeric characters (letters A-Z, numbers 0-9)with the exception of underscores, as noted above. Check to make sure your desired username doesn't contain any symbols, dashes, or spaces.\"```"
   ]
  },
  {
   "cell_type": "markdown",
   "id": "78786e20",
   "metadata": {},
   "source": [
    "For our development tests, we are going to use this Packt Publishing tweet:"
   ]
  },
  {
   "attachments": {
    "Pack%20publishing%20regex.png": {
     "image/png": "[encoded data removed]"
    }
   },
   "cell_type": "markdown",
   "id": "ac3dc9ec",
   "metadata": {},
   "source": [
    "![Pack%20publishing%20regex.png](attachment:Pack%20publishing%20regex.png)"
   ]
  },
  {
   "cell_type": "markdown",
   "id": "6b790326",
   "metadata": {},
   "source": [
    "The first thing we should be able to construct is a character set with all the  characters that could potentially be used in a Twitter username. This could be  any alphanumeric character followed by the underscore character as we just found in the previous Twitter support article. Therefore, we could construct a character set similar to the following:\n",
    "\n",
    "```[\\w_]```"
   ]
  },
  {
   "cell_type": "markdown",
   "id": "590336b3",
   "metadata": {},
   "source": [
    "This will represent all the parts that we want to extract from the username. Then, we will need to prepend a word boundary and the at symbol (```@```) that will be used to locate the usernames:\n",
    "\n",
    "```'\\B@[\\w_]+'```"
   ]
  },
  {
   "cell_type": "markdown",
   "id": "1d0ca151",
   "metadata": {},
   "source": [
    "The reason behind using the word boundary is that we don't want to get confused \n",
    "with e-mails and so on. We are looking only for text that follows the start of the line or a word boundary, then followed by an ```@``` symbol, and then just a number of alphanumeric or underscore characters. The examples are as follows:\n",
    "\n",
    "- ```@vromer0``` is a valid username\n",
    "- ```iam@vromer0``` is not valid username as it should start with the ```@``` symbol\n",
    "- ```@vromero.org``` is not a valid username as it contain an invalid character"
   ]
  },
  {
   "cell_type": "markdown",
   "id": "b8136236",
   "metadata": {},
   "source": [
    "If we use the regular expression we have at the moment, we will obtain the following result:"
   ]
  },
  {
   "cell_type": "code",
   "execution_count": 87,
   "id": "4d2781be",
   "metadata": {},
   "outputs": [],
   "source": [
    "pattern_rwp = re.compile(r'\\B@[\\w_]+')"
   ]
  },
  {
   "cell_type": "code",
   "execution_count": 62,
   "id": "f6029934",
   "metadata": {},
   "outputs": [
    {
     "data": {
      "text/plain": [
       "['@HadoopNews']"
      ]
     },
     "execution_count": 62,
     "metadata": {},
     "output_type": "execute_result"
    }
   ],
   "source": [
    "pattern_rwp.findall(\"Know your Big Data = 5 for $50 on eBooks and 40% off all eBooks until Friday #bigdata #hadoop @HadoopNews packtpub.com/bigdataoffers\")"
   ]
  },
  {
   "cell_type": "markdown",
   "id": "1b2bb957",
   "metadata": {},
   "source": [
    "Now We do want to match just the username without including the preceding @ symbol. \n",
    "\n",
    "At this point, a **look behind** mechanism becomes useful. We can include the word boundary and the ```@``` symbol in a look behind subexpression so that they don't become a part of the matched result:"
   ]
  },
  {
   "cell_type": "code",
   "execution_count": 63,
   "id": "c6f2b7ea",
   "metadata": {},
   "outputs": [],
   "source": [
    "pattern_rwp2 = re.compile(r'(?<=\\B@)[\\w_]+')"
   ]
  },
  {
   "cell_type": "code",
   "execution_count": 64,
   "id": "beef0aae",
   "metadata": {},
   "outputs": [
    {
     "data": {
      "text/plain": [
       "['HadoopNews']"
      ]
     },
     "execution_count": 64,
     "metadata": {},
     "output_type": "execute_result"
    }
   ],
   "source": [
    "pattern_rwp2.findall(\"Know your Big Data = 5 for $50 on eBooks and 40% off all eBooks until Friday #bigdata #hadoop @HadoopNews packtpub.com/bigdataoffers\")"
   ]
  },
  {
   "cell_type": "markdown",
   "id": "100a6e14",
   "metadata": {},
   "source": [
    "And now we have accomplished our goal."
   ]
  },
  {
   "cell_type": "markdown",
   "id": "0b41fc67",
   "metadata": {},
   "source": [
    "# Negative look behind"
   ]
  },
  {
   "cell_type": "markdown",
   "id": "25750e04",
   "metadata": {},
   "source": [
    "The negative look behind mechanism presents the very same nature of the main look behind mechanism, but we will only have a valid result if the passed subexpression doesn't match.\n",
    "\n",
    "It is represented as an expression preceded by a question mark, a less-than sign, and an exclamation mark, ```?<!```, inside a parenthesis block: ```(?<!regex)```."
   ]
  },
  {
   "cell_type": "markdown",
   "id": "488163f6",
   "metadata": {},
   "source": [
    "It is worth remembering that negative look behind not only shares most of the \n",
    "characteristics of the look behind mechanism, but it also shares the limitations. The negative look behind mechanism is only able to match fxed-width patterns. These have the same cause and implications as we have studied in the previous section."
   ]
  },
  {
   "cell_type": "markdown",
   "id": "da32de86",
   "metadata": {},
   "source": [
    "We could put this into practice by trying to match any person surnamed ```Doe``` who is not named ```John``` with a regular expression like this: ```'(?<!John\\s)Doe'```. If we use it in Python's console, we will obtain the following result:"
   ]
  },
  {
   "cell_type": "code",
   "execution_count": 73,
   "id": "51e6b1f8",
   "metadata": {},
   "outputs": [],
   "source": [
    "pattern_neg_lb1 = re.compile('(?<!John\\s)Doe')"
   ]
  },
  {
   "cell_type": "code",
   "execution_count": 74,
   "id": "aad20ca7",
   "metadata": {},
   "outputs": [],
   "source": [
    "result_neg_lb1 = pattern_neg_lb1.finditer(\"John Doe, Calvin Doe, Hobbes Doe\")"
   ]
  },
  {
   "cell_type": "code",
   "execution_count": 75,
   "id": "6cbd445d",
   "metadata": {},
   "outputs": [
    {
     "name": "stdout",
     "output_type": "stream",
     "text": [
      "<re.Match object; span=(17, 20), match='Doe'>\n",
      "<re.Match object; span=(29, 32), match='Doe'>\n"
     ]
    }
   ],
   "source": [
    "for i in result_neg_lb1:\n",
    "    print(i)"
   ]
  },
  {
   "cell_type": "markdown",
   "id": "73ed1431",
   "metadata": {},
   "source": [
    "# Look around and groups"
   ]
  },
  {
   "cell_type": "markdown",
   "id": "d0fb399a",
   "metadata": {},
   "source": [
    "Another benefcial use of look around constructions is inside groups.  \n",
    "Typically, when groups are used, a very specific result has to be matched and \n",
    "returned inside the group. As we don't want to pollute the groups with information that is not required, among other potential options we can leverage look around as a favorable solution."
   ]
  },
  {
   "cell_type": "markdown",
   "id": "6b247c6d",
   "metadata": {},
   "source": [
    "Let's say that we need to get a comma-separated value, the first part of the value is  a name, while the second is a value. The format would be similar to this:\n",
    "\n",
    "```\"INFO 2013-09-17 12:13:44,487 authentication failed\"```"
   ]
  },
  {
   "cell_type": "markdown",
   "id": "c858d773",
   "metadata": {},
   "source": [
    "As we learned in *Chapter 3, Grouping*, we can easily write an expression that will get these two values like the following:\n",
    "\n",
    "```'\\w+\\s[\\d-]+\\s[\\d:,]+\\s(.*\\sfailed)'```"
   ]
  },
  {
   "cell_type": "code",
   "execution_count": 84,
   "id": "d67f1c44",
   "metadata": {},
   "outputs": [],
   "source": [
    "pattern_la_gr1 = re.compile(r'\\w+\\s[\\d-]+\\s[\\d:,]+\\s(.*\\sfailed)')"
   ]
  },
  {
   "cell_type": "code",
   "execution_count": 85,
   "id": "255626c1",
   "metadata": {},
   "outputs": [
    {
     "data": {
      "text/plain": [
       "['authentication failed']"
      ]
     },
     "execution_count": 85,
     "metadata": {},
     "output_type": "execute_result"
    }
   ],
   "source": [
    "re.findall(pattern_la_gr1, \"INFO 2013-09-17 12:13:44,487 authentication failed\")"
   ]
  },
  {
   "cell_type": "markdown",
   "id": "eb30143e",
   "metadata": {},
   "source": [
    "However, we only want to match when the failure is not an authentication failure. We can accomplish this with *the addition of* **a negative look behind**. It will look like this: \n",
    "\n",
    "```'\\w+\\s[\\d-]+\\s[\\d:,]+\\s(.*(?<!authentication\\s)failed)'```"
   ]
  },
  {
   "cell_type": "markdown",
   "id": "bfeb33da",
   "metadata": {},
   "source": [
    "Once we put this in Python's console, we will get the following output:"
   ]
  },
  {
   "cell_type": "code",
   "execution_count": 79,
   "id": "01320b28",
   "metadata": {},
   "outputs": [],
   "source": [
    "pattern_la_gr = re.compile(r'\\w+\\s[\\d-]+\\s[\\d:,]+\\s(.*(?<!authentication\\s)failed)')"
   ]
  },
  {
   "cell_type": "code",
   "execution_count": 80,
   "id": "8d9cc76c",
   "metadata": {},
   "outputs": [
    {
     "data": {
      "text/plain": [
       "[]"
      ]
     },
     "execution_count": 80,
     "metadata": {},
     "output_type": "execute_result"
    }
   ],
   "source": [
    "\n",
    "pattern_la_gr.findall(\"INFO 2013-09-17 12:13:44,487 authentication failed\")"
   ]
  },
  {
   "cell_type": "code",
   "execution_count": 81,
   "id": "77e5b560",
   "metadata": {},
   "outputs": [
    {
     "data": {
      "text/plain": [
       "['something else failed']"
      ]
     },
     "execution_count": 81,
     "metadata": {},
     "output_type": "execute_result"
    }
   ],
   "source": [
    "pattern_la_gr.findall(\"INFO 2013-09-17 12:13:44,487 something else failed\")"
   ]
  },
  {
   "cell_type": "markdown",
   "id": "153105d4",
   "metadata": {},
   "source": [
    "# Summary"
   ]
  },
  {
   "cell_type": "markdown",
   "id": "c27a0d9c",
   "metadata": {},
   "source": [
    "In this chapter, we learned the concept of zero-with assertions and how it can be useful to find the exact thing in a text without interfering in the result content.\n",
    "\n",
    "We have also learned how to leverage the four types of look around mechanisms: \n",
    "positive look ahead, negative look ahead, positive look behind, and negative  \n",
    "look behind.\n",
    "\n",
    "We also reviewed, with special interest, the limitation of the two types of look behind with the variable assertions.\n",
    "\n",
    "With this, we conclude the travel through the basic and advanced techniques  \n",
    "around regular expressions. Now, we are ready to focus on performance tuning  \n",
    "in the next chapter."
   ]
  },
  {
   "cell_type": "code",
   "execution_count": null,
   "id": "1d660ae5",
   "metadata": {},
   "outputs": [],
   "source": []
  }
 ],
 "metadata": {
  "kernelspec": {
   "display_name": "Python 3 (ipykernel)",
   "language": "python",
   "name": "python3"
  },
  "language_info": {
   "codemirror_mode": {
    "name": "ipython",
    "version": 3
   },
   "file_extension": ".py",
   "mimetype": "text/x-python",
   "name": "python",
   "nbconvert_exporter": "python",
   "pygments_lexer": "ipython3",
   "version": "3.7.13"
  }
 },
 "nbformat": 4,
 "nbformat_minor": 5
}
