{
 "cells": [
  {
   "cell_type": "code",
   "execution_count": 1,
   "id": "e124f6eb",
   "metadata": {},
   "outputs": [],
   "source": [
    "import re"
   ]
  },
  {
   "cell_type": "code",
   "execution_count": 2,
   "id": "9c105442",
   "metadata": {},
   "outputs": [],
   "source": [
    "string = \"we have this file1.xml, file2.xml, file3.xml\"\n"
   ]
  },
  {
   "cell_type": "code",
   "execution_count": 3,
   "id": "b993ec2a",
   "metadata": {},
   "outputs": [],
   "source": [
    "pattern = re.compile(r'(\\w+)\\d')"
   ]
  },
  {
   "cell_type": "code",
   "execution_count": 4,
   "id": "d2468364",
   "metadata": {},
   "outputs": [
    {
     "data": {
      "text/plain": [
       "['file', 'file', 'file']"
      ]
     },
     "execution_count": 4,
     "metadata": {},
     "output_type": "execute_result"
    }
   ],
   "source": [
    "re.findall(pattern, string)"
   ]
  },
  {
   "cell_type": "code",
   "execution_count": 5,
   "id": "82eeeb56",
   "metadata": {},
   "outputs": [],
   "source": [
    "pattern2 = re.compile(r'(\\w+)(\\d)')"
   ]
  },
  {
   "cell_type": "code",
   "execution_count": 6,
   "id": "4db95d46",
   "metadata": {},
   "outputs": [
    {
     "data": {
      "text/plain": [
       "[('file', '1'), ('file', '2'), ('file', '3')]"
      ]
     },
     "execution_count": 6,
     "metadata": {},
     "output_type": "execute_result"
    }
   ],
   "source": [
    "re.findall(pattern2, string)"
   ]
  },
  {
   "cell_type": "code",
   "execution_count": 7,
   "id": "3362aa79",
   "metadata": {},
   "outputs": [],
   "source": [
    "pattern3 = re.compile(r'(\\w+)(\\d)\\.(\\w+)')"
   ]
  },
  {
   "cell_type": "code",
   "execution_count": 8,
   "id": "046721b1",
   "metadata": {},
   "outputs": [
    {
     "data": {
      "text/plain": [
       "[('file', '1', 'xml'), ('file', '2', 'xml'), ('file', '3', 'xml')]"
      ]
     },
     "execution_count": 8,
     "metadata": {},
     "output_type": "execute_result"
    }
   ],
   "source": [
    "re.findall(pattern3, string)"
   ]
  },
  {
   "cell_type": "code",
   "execution_count": 9,
   "id": "f4d69918",
   "metadata": {},
   "outputs": [],
   "source": [
    "pattern4 = re.compile(r'(\\w+)\\d.(\\w+)')"
   ]
  },
  {
   "cell_type": "code",
   "execution_count": 10,
   "id": "307fc200",
   "metadata": {},
   "outputs": [
    {
     "data": {
      "text/plain": [
       "[('file', 'xml'), ('file', 'xml'), ('file', 'xml')]"
      ]
     },
     "execution_count": 10,
     "metadata": {},
     "output_type": "execute_result"
    }
   ],
   "source": [
    "re.findall(pattern4, string)"
   ]
  },
  {
   "cell_type": "code",
   "execution_count": null,
   "id": "31af9781",
   "metadata": {},
   "outputs": [],
   "source": []
  },
  {
   "cell_type": "code",
   "execution_count": null,
   "id": "016073bc",
   "metadata": {},
   "outputs": [],
   "source": []
  },
  {
   "cell_type": "code",
   "execution_count": null,
   "id": "1b9ceed9",
   "metadata": {},
   "outputs": [],
   "source": []
  },
  {
   "cell_type": "code",
   "execution_count": null,
   "id": "a1047913",
   "metadata": {},
   "outputs": [],
   "source": []
  },
  {
   "cell_type": "code",
   "execution_count": null,
   "id": "3d9143a9",
   "metadata": {},
   "outputs": [],
   "source": []
  },
  {
   "cell_type": "code",
   "execution_count": null,
   "id": "8cc9acd3",
   "metadata": {},
   "outputs": [],
   "source": []
  },
  {
   "cell_type": "code",
   "execution_count": null,
   "id": "6c20d1dd",
   "metadata": {},
   "outputs": [],
   "source": []
  },
  {
   "cell_type": "markdown",
   "id": "821b4a9d",
   "metadata": {},
   "source": [
    "# Chapter 1 Introduction to Regular Expression"
   ]
  },
  {
   "cell_type": "markdown",
   "id": "d288c1ca",
   "metadata": {},
   "source": [
    "in this example ```string = \"we have this file1.xml, file2.xml, file3.xml\"```, we can find 2 kinds of components : **literals** (```file``` and ```.xml```) and **metacharacter** (```?``` or ```*```).\n",
    "\n",
    "A reguler expression is a pattern of text that consist of ordinary characters (e.g letter a through z or numbers 0 through 9) and special character known as metacharacters. This pattern describes the strings that would match when applied to a text."
   ]
  },
  {
   "cell_type": "markdown",
   "id": "61d604b0",
   "metadata": {},
   "source": [
    "Let's see our very first reguler expression that will match any word starting with ```-->a:```\n",
    "\n",
    "```-->a:``` regex using literals and metacharacters and is usually written as this ```/--->a\\w*/```. from those symbols we can see that, ```--->``` is literal, ```a``` is a literal ```w``` is metacharacter and ```*``` is also metacharcter."
   ]
  },
  {
   "cell_type": "markdown",
   "id": "65bb47fe",
   "metadata": {},
   "source": [
    "**Representing of regular expression in this book**\n",
    "\n",
    "In this book, regex is represented *bounded by the ```/``` symbol*. this is the QED demarcation that is followed in most of the text book. The code examples, however, won't use this notation.\n",
    "\n",
    "on the other hand, evem with monospaced font faces, the *whitespaces* of a regular expression are difficult to count. in order to simplify the reading, everys single whitespace in the figures will appear as ```-->```."
   ]
  },
  {
   "cell_type": "markdown",
   "id": "8b301a67",
   "metadata": {},
   "source": [
    "# Literal"
   ]
  },
  {
   "cell_type": "markdown",
   "id": "f3bf3b14",
   "metadata": {},
   "source": [
    "Literals are the simplest form of pattern mathing in regular expressions. They will simply succeed whenever that literal is found."
   ]
  },
  {
   "cell_type": "markdown",
   "id": "81363c72",
   "metadata": {},
   "source": [
    "If we apply the regular expression ```'fox'``` to search the phrase ```\"The quick brown fox jumps over the lazy dong\"```, we will find one match:"
   ]
  },
  {
   "cell_type": "code",
   "execution_count": 11,
   "id": "053c8ba3",
   "metadata": {},
   "outputs": [
    {
     "data": {
      "text/plain": [
       "['fox']"
      ]
     },
     "execution_count": 11,
     "metadata": {},
     "output_type": "execute_result"
    }
   ],
   "source": [
    "sentence = \"The quick brown fox jumps over the lazy dong\"\n",
    "\n",
    "re.findall('fox', sentence)"
   ]
  },
  {
   "cell_type": "markdown",
   "id": "77819666",
   "metadata": {},
   "source": [
    "However we can also obtain several results instead of just one, if we apply the regular expression ```'be'``` to the following phrase ```'To be, or not to be'```. like this code"
   ]
  },
  {
   "cell_type": "code",
   "execution_count": 12,
   "id": "ddda9e91",
   "metadata": {},
   "outputs": [
    {
     "data": {
      "text/plain": [
       "['be', 'be']"
      ]
     },
     "execution_count": 12,
     "metadata": {},
     "output_type": "execute_result"
    }
   ],
   "source": [
    "sentence2 = 'To be, or not to be'\n",
    "re.findall(r'be', sentence2)"
   ]
  },
  {
   "cell_type": "markdown",
   "id": "34f7cfce",
   "metadata": {},
   "source": [
    "We have just learned in the previous section that *metacharacters* can coexist with *literals* in the same expression. Because of this coexistence, we can fnd that some expressions do not mean what we intended. \n",
    "\n",
    "For example, if we apply the expression\n",
    "```/(this is inside)/``` to search the text ```this is outside (this is inside)```,  \n",
    "we will fnd that the parentheses are not included in the result. This happens  \n",
    "because parentheses are metacharacters and they have a special meaning."
   ]
  },
  {
   "cell_type": "code",
   "execution_count": 13,
   "id": "2b4bc784",
   "metadata": {},
   "outputs": [
    {
     "data": {
      "text/plain": [
       "['this is inside']"
      ]
     },
     "execution_count": 13,
     "metadata": {},
     "output_type": "execute_result"
    }
   ],
   "source": [
    "sentence3 = \"this is outside (this is inside)\"\n",
    "re.findall('(this is inside)', sentence3)\n",
    "\n",
    "# incorrectly unescaped metacharacters"
   ]
  },
  {
   "cell_type": "markdown",
   "id": "8d679006",
   "metadata": {},
   "source": [
    "***We can use metacharacters as if they were literals***. There are three mechanisms  \n",
    "to do so:\n",
    "-  Escape the metacharacters by preceding them with a backslash.\n",
    "-  In python, use the ```re.escape``` method to escape non-alphanumeric  characters that may appear in the expression. We will cover this in Chapter 2, Regular Expressions with Python.\n",
    "-  Quoting with \\Q and \\E: There is a third mechanism to quote in regular expressions, the quoting with ```\\Q``` and ```\\E```. In the favors that support them, it's as simple as enclosing the parts that have to be quoted with \\Q  (which starts a quote) and \\E (which ends it).\n",
    "\n",
    "**However, this is not supported in Python at the moment.**\n",
    "\n",
    "Using the backslash method, we can convert the previous expression to ```\\(this is inside\\)/``` and apply it again to the same text to have the parentheses included in the result:"
   ]
  },
  {
   "cell_type": "code",
   "execution_count": 14,
   "id": "b23ea80a",
   "metadata": {},
   "outputs": [
    {
     "data": {
      "text/plain": [
       "['(this is inside)']"
      ]
     },
     "execution_count": 14,
     "metadata": {},
     "output_type": "execute_result"
    }
   ],
   "source": [
    "sentence3 = \"this is outside (this is inside)\"\n",
    "re.findall(r'\\(this is inside\\)', sentence3)\n",
    "\n",
    "# escaped metacharacters in regex"
   ]
  },
  {
   "cell_type": "markdown",
   "id": "3ceb022a",
   "metadata": {},
   "source": [
    "In regular expressions, there are twelve metacharacters that should be escaped if they are to be used with their literal meaning:\n",
    "- Backlash \\\n",
    "- caret ^\n",
    "- dollar sign ```$```\n",
    "- dot ```.```\n",
    "- pipe symbol |\n",
    "- question mark ?\n",
    "- Asterisk *\n",
    "- plus sign +\n",
    "- opening parenthesis (\n",
    "- closing parenthesis )\n",
    "- opening square brachet [\n",
    "- the opening curly brace {"
   ]
  },
  {
   "cell_type": "markdown",
   "id": "6cee020c",
   "metadata": {},
   "source": [
    "In some cases, the regular expression engines will do their best to understand if they \n",
    "should have a literal meaning even if they are not escaped; for example, the opening \n",
    "curly brace { will only be treated as a metacharacter if it's followed by a number to \n",
    "indicate a repetition, as we will learn later in this chapter."
   ]
  },
  {
   "cell_type": "markdown",
   "id": "da5d1972",
   "metadata": {},
   "source": [
    "# Character classes or character sets"
   ]
  },
  {
   "cell_type": "markdown",
   "id": "b95f2ff0",
   "metadata": {},
   "source": [
    "We are going to use a metacharacter for the frst time to learn how to leverage the character classes. The character classes (also known as character sets) allow us to  defne a character that will match if any of the defned characters on the set is present.\n",
    "\n",
    "To defne a character class, we should use the opening square bracket metacharacter ```[```, then any accepted characters, and fnally close with a closing square bracket ```]```. For instance, let's define a regular expression that can match the word \"license\" in British and American English written form:"
   ]
  },
  {
   "cell_type": "code",
   "execution_count": 15,
   "id": "3823211c",
   "metadata": {},
   "outputs": [
    {
     "data": {
      "text/plain": [
       "['licence', 'license']"
      ]
     },
     "execution_count": 15,
     "metadata": {},
     "output_type": "execute_result"
    }
   ],
   "source": [
    "# searching using a character class or character set\n",
    "sentence4 = \"licence and license are valid\"\n",
    "re.findall(r'licen[cs]e', sentence4)"
   ]
  },
  {
   "cell_type": "markdown",
   "id": "38dcfc6d",
   "metadata": {},
   "source": [
    "It is possible to also use the range of a character. This is done by leveraging the hyphen symbol (```-```) between two related characters; for example, to match  any lowercase letter we can use ```[a-z]```. Likewise, to match any single digit we  can defne the character set ```[0-9]```."
   ]
  },
  {
   "cell_type": "markdown",
   "id": "52330a9e",
   "metadata": {},
   "source": [
    "The character classes' ranges can be combined to be able to match a character against many ranges by just putting one range after the other—no special separation is required. For instance, if we want to match any lowercase or uppercase alphanumeric character, we can use ```[0-9a-zA-Z]``` (see next table for a more detailed explanation). \n",
    "\n",
    "This can be alternatively written using the union mechanism: ```[0-9[a-z[A-Z]]]```."
   ]
  },
  {
   "cell_type": "markdown",
   "id": "a10020a8",
   "metadata": {},
   "source": [
    "There is another possibility—the negation of ranges. We can invert the meaning of a character set by placing a caret (^) symbol right after the opening square  bracket metacharacter (```[```). If we have a character class such as ```[0-9]``` meaning any digit, the negated character class ```[^0-9]``` will match anything that is not a digit. \n",
    "\n",
    "However, it is important to notice that there has to be a character that is not a digit;for example, ```'hello[^0-9]'``` won't match the string ```hello``` because after the ⇢ there has to be a non-digit character. There is a mechanism to do this — called **negative lookahead**—and it will be covered in *Chapter 4, Look Around*."
   ]
  },
  {
   "cell_type": "code",
   "execution_count": 16,
   "id": "af33c122",
   "metadata": {},
   "outputs": [
    {
     "data": {
      "text/plain": [
       "[]"
      ]
     },
     "execution_count": 16,
     "metadata": {},
     "output_type": "execute_result"
    }
   ],
   "source": [
    "re.findall(r'hello[^0-9]', 'hello')"
   ]
  },
  {
   "cell_type": "code",
   "execution_count": 17,
   "id": "fe971897",
   "metadata": {},
   "outputs": [
    {
     "data": {
      "text/plain": [
       "['hello_']"
      ]
     },
     "execution_count": 17,
     "metadata": {},
     "output_type": "execute_result"
    }
   ],
   "source": [
    "re.findall(r'hello[^0-9]', 'hello_')"
   ]
  },
  {
   "cell_type": "markdown",
   "id": "714806de",
   "metadata": {},
   "source": [
    "# Predefined character classes"
   ]
  },
  {
   "cell_type": "markdown",
   "id": "b53d003e",
   "metadata": {},
   "source": [
    "After using character classes for some time, it becomes clear that some of them are very useful and probably worthy of a shortcut.\n",
    "\n",
    "Luckily enough, there are a number of predefned character classes that can be re-used and will be already known by other developers, making the expressions \n",
    "using them more readable."
   ]
  },
  {
   "cell_type": "markdown",
   "id": "b5aa4ea7",
   "metadata": {},
   "source": [
    "These characters are not only useful as well-known shortcuts for typical character sets, but also have different meanings in different contexts. \n",
    "The character class ```\\w```, which matches any alphanumeric character, will match a different set of characters depending on the confgured locale and the support of Unicode.\n",
    "\n",
    "The following table shows the character classes supported at this moment in Python:"
   ]
  },
  {
   "cell_type": "markdown",
   "id": "544b588c",
   "metadata": {},
   "source": [
    "https://stackoverflow.com/questions/48655801/tables-in-markdown-in-jupyter\n",
    "\n",
    "The ```---``` in between the column definitions ```| |``` mean that the column is unjustified. In standard Markdown, this would align to the left of the column but in Jupyter notebook, it appears to align to the right instead.\n",
    "\n",
    "If you'd like to left align or centre align, you can use ```:-``` and ```:-:``` respectively. Depending on what Jupyter notebook environment you're using, you will need to use ```-:``` to right align."
   ]
  },
  {
   "cell_type": "markdown",
   "id": "bc54f992",
   "metadata": {},
   "source": [
    "| Element | Description for regex with default flags|\n",
    "|:-|:-|\n",
    "|```.``` | This element matches any character *except* newline ```\\n```|\n",
    "| ```\\d```| This matches any decimal digit; this is equivalent  to the class ```[0-9]```|\n",
    "|```\\D```| this matches any non-digit character, this is equivalent to the class ```[^0-9]```|\n",
    "|```\\s```| this matches any whitespace character, this is equivalent to the class ```[--> \\t \\n \\r \\f \\v]```|\n",
    "|```\\S```| this matches any alphanumeric character this is equivalent to the class ```[^ --> \\t \\n \\r \\f \\v]```|\n",
    "|```\\w```| this matches any alphanumeric character, this is equivalent to the class ```[a-zA-Z0-9_]```|\n",
    "|```\\W```| this matches any non-alphanumeric character, this is equivalent to the class ```[^a-zA-Z0-9_]```|"
   ]
  },
  {
   "cell_type": "markdown",
   "id": "aa871a47",
   "metadata": {},
   "source": [
    "The frst one from the previous table—the dot—requires special attention. The dot is probably one of the oldest and also one of the most used metacharacters. The dot can match any character except a newline character."
   ]
  },
  {
   "cell_type": "markdown",
   "id": "b2a5647d",
   "metadata": {},
   "source": [
    "Let's put the dot in practice by creating a regular expression that matches three characters of any value except newline:\n",
    "$$'…'$$\n",
    "which the first ```.``` means the matches any character, the second means matches any character followed by the previous one ant the third ```.``` means matches any character followed by the previous one."
   ]
  },
  {
   "cell_type": "markdown",
   "id": "42715740",
   "metadata": {},
   "source": [
    "The dot is a very powerful metacharacter that can create problems if it is not used moderately. In most of the cases where the dot is used, it could be considered overkill (or just a symptom of laziness when writing regular expressions)."
   ]
  },
  {
   "cell_type": "markdown",
   "id": "ed05e4ed",
   "metadata": {},
   "source": [
    "To better define what is expected to be matched and to express more concisely  \n",
    "to any ulterior reader what a regular expression is intended to do, the usage of character classes is much recommended. For instance, when working with Windows and UNIX fle paths, to match any character except the slash or the backslash, you can use a negated character set:\n",
    "```'[^\\/]'```"
   ]
  },
  {
   "cell_type": "markdown",
   "id": "3e83ee25",
   "metadata": {},
   "source": [
    "This character set is explicitly telling you that we intend to match anything but a Windows or UNIX fle path separator."
   ]
  },
  {
   "cell_type": "markdown",
   "id": "c28611ac",
   "metadata": {},
   "source": [
    "# Alternation"
   ]
  },
  {
   "cell_type": "markdown",
   "id": "f62514c1",
   "metadata": {},
   "source": [
    "We have just learned how to match a single character from a set of characters. Now, we are going to learn a broader approach: how to match against a set of  \n",
    "regular expressions. This is accomplished using the pipe symbol ```|``` ."
   ]
  },
  {
   "cell_type": "markdown",
   "id": "364ae9d3",
   "metadata": {},
   "source": [
    "Let's start by saying that we want to match either if we fnd the word \"yes\" or the word \"no\". Using alternation, it will be as simple as: ```r'yes|no'```\n",
    "\n"
   ]
  },
  {
   "cell_type": "markdown",
   "id": "bb564c7a",
   "metadata": {},
   "source": [
    "On the other hand, if we want to accept more than two values, we can continue adding values to the alternation like this: ```'yes|no|maybe'```"
   ]
  },
  {
   "cell_type": "markdown",
   "id": "330f6da2",
   "metadata": {},
   "source": [
    "When using in bigger regular expressions, we will probably need to wrap our alternation inside parentheses to express that only that part is alternated and not the whole expression. For instance, if we make the mistake of not using the \n",
    "parentheses, as in the following expression: \n",
    "\n",
    "```'Licence: yes|no'```"
   ]
  },
  {
   "cell_type": "markdown",
   "id": "93d939b1",
   "metadata": {},
   "source": [
    "We may think we are accepting either ```Licence: yes``` or ```Licence: no```, but we are actually accepting either ```Licence: yes``` or ```no``` as the alternation has been applied to the whole regular expression instead of just the ```yes|no``` part. A correct approach for this will be:\n",
    "\n",
    "```Driving Licence: (yes|no)'```"
   ]
  },
  {
   "cell_type": "code",
   "execution_count": 18,
   "id": "4bb6d513",
   "metadata": {},
   "outputs": [
    {
     "data": {
      "text/plain": [
       "['Licence: yes']"
      ]
     },
     "execution_count": 18,
     "metadata": {},
     "output_type": "execute_result"
    }
   ],
   "source": [
    "# reguler expression using alternation\n",
    "sentence5 = \"Licence: yes\"\n",
    "re.findall('Licence: yes|no', sentence5)"
   ]
  },
  {
   "cell_type": "code",
   "execution_count": 19,
   "id": "446e45b0",
   "metadata": {},
   "outputs": [
    {
     "data": {
      "text/plain": [
       "['yes']"
      ]
     },
     "execution_count": 19,
     "metadata": {},
     "output_type": "execute_result"
    }
   ],
   "source": [
    "sentence5 = \"Licence: yes\"\n",
    "sentence6 = \"Licence: no\"\n",
    "re.findall(r'Licence: (yes|no)', sentence5)"
   ]
  },
  {
   "cell_type": "code",
   "execution_count": 20,
   "id": "47803c81",
   "metadata": {},
   "outputs": [
    {
     "data": {
      "text/plain": [
       "['no']"
      ]
     },
     "execution_count": 20,
     "metadata": {},
     "output_type": "execute_result"
    }
   ],
   "source": [
    "re.findall(r'Licence: (yes|no)', sentence6)"
   ]
  },
  {
   "cell_type": "code",
   "execution_count": null,
   "id": "cd16f22e",
   "metadata": {},
   "outputs": [],
   "source": []
  },
  {
   "cell_type": "markdown",
   "id": "88a5c701",
   "metadata": {},
   "source": [
    "# Quantifiers"
   ]
  },
  {
   "cell_type": "markdown",
   "id": "fae07f96",
   "metadata": {},
   "source": [
    "So far, we have learned how to defne a single character in a variety of fashions. At this point, we will leverage the quantifers—the mechanisms to defne how a character, metacharacter, or character set can be repeated."
   ]
  },
  {
   "cell_type": "markdown",
   "id": "9739ef24",
   "metadata": {},
   "source": [
    "For instance, if we defne that a \\d can be repeated many times, we can easily create a form validator for the number of items feld of a shopping cart (remember that ```\\d``` matches any decimal digit). But let's start from the beginning, the three basic quantifers: the question mark ```?```, the plus sign ```+```, and the asterisk ```*```."
   ]
  },
  {
   "cell_type": "markdown",
   "id": "69d7ab10",
   "metadata": {},
   "source": [
    "|Symbol |Name| Quantification of previous character|\n",
    "|:-:|-:|-:|\n",
    "|? |Question mark| Optional (0 or 1 repetitions)|\n",
    "|* |Asterisk |Zero or more times|\n",
    "|+ |Plus sign |One or more times |\n",
    "|{n,m}| Curly braces |Between n and m times|"
   ]
  },
  {
   "cell_type": "markdown",
   "id": "3ed3a760",
   "metadata": {},
   "source": [
    "In the preceding table, we can fnd the three basic quantifers, each with a specifc utility. The question mark can be used to match the word car and its plural form cars:\n",
    "\n",
    "```'cars?'```"
   ]
  },
  {
   "cell_type": "markdown",
   "id": "09b6a0b1",
   "metadata": {},
   "source": [
    "| Element |  Description |\n",
    "|:-: | :-|\n",
    "| car | Matches the characters c, a, r and s |\n",
    "| s? | Optionally matches the character s|"
   ]
  },
  {
   "cell_type": "markdown",
   "id": "5e7fd821",
   "metadata": {},
   "source": [
    "Another interesting example of the usage of the question mark quantifer will be to match a telephone number that can be in the format ```555-555-555```, ```555 555 555```, or ```555555555```.\n",
    "\n",
    "We now know how to leverage character sets to accept different characters,but is it possible to apply a quantifer to a character set? \n",
    "\n",
    "Yes, quantifers can be applied to characters, character sets, and even to groups (a feature we will cover in Chapter 3, Grouping). We can construct a regular expression like this to validate the telephone numbers:"
   ]
  },
  {
   "cell_type": "markdown",
   "id": "891e718a",
   "metadata": {},
   "source": [
    "```\\d+[-\\s]?\\d+[-\\s]?\\d+```"
   ]
  },
  {
   "cell_type": "code",
   "execution_count": 21,
   "id": "5dbdaf63",
   "metadata": {},
   "outputs": [
    {
     "data": {
      "text/plain": [
       "['555-555-555']"
      ]
     },
     "execution_count": 21,
     "metadata": {},
     "output_type": "execute_result"
    }
   ],
   "source": [
    "re.findall('\\d+[-\\s]?\\d+[-\\s]?\\d+', '555-555-555')"
   ]
  },
  {
   "cell_type": "code",
   "execution_count": 22,
   "id": "2b035fc9",
   "metadata": {},
   "outputs": [
    {
     "data": {
      "text/plain": [
       "['555 555 555']"
      ]
     },
     "execution_count": 22,
     "metadata": {},
     "output_type": "execute_result"
    }
   ],
   "source": [
    "re.findall('\\d+[-\\s]?\\d+[-\\s]?\\d+', '555 555 555')"
   ]
  },
  {
   "cell_type": "code",
   "execution_count": 23,
   "id": "065cd566",
   "metadata": {},
   "outputs": [
    {
     "data": {
      "text/plain": [
       "['555555555']"
      ]
     },
     "execution_count": 23,
     "metadata": {},
     "output_type": "execute_result"
    }
   ],
   "source": [
    "re.findall('\\d+[-\\s]?\\d+[-\\s]?\\d+', '555555555')"
   ]
  },
  {
   "cell_type": "markdown",
   "id": "47bb0f82",
   "metadata": {},
   "source": [
    "At the beginning of this section, one more kind of quantifer using the curly braces had been mentioned. Using this syntax, we can defne that the previous character must appear exactly three times by appending it with ```{3}```, that is, the expression ```\\w{8}``` specifes exactly eight alphanumeric digits."
   ]
  },
  {
   "cell_type": "markdown",
   "id": "f3d31c08",
   "metadata": {},
   "source": [
    "We can also define a certain range of repetitions by providing a minimum and \n",
    "maximum number of repetitions, that is, between three and eight times can be \n",
    "defned with the syntax ```{4,7}```. Either the minimum or the maximum value can be omitted defaulting to 0 and infnite respectively. To designate a repetition of up to three times, we can use ```{,3}```, we can also establish a repetition at least three times with ```{3,}```."
   ]
  },
  {
   "cell_type": "markdown",
   "id": "bf8a0729",
   "metadata": {},
   "source": [
    "These four different combinations are shown in the next table:"
   ]
  },
  {
   "cell_type": "markdown",
   "id": "645cd784",
   "metadata": {},
   "source": [
    "|Syntax | Description |\n",
    "|:- | :-|\n",
    "|{n} |The previous character is repeated exactly n times.|\n",
    "|{n,}| The previous character is repeated at least n times.|\n",
    "|{,n}| The previous character is repeated at most n times.|\n",
    "|{n,m}| The previous character is repeated between n and m times (both inclusive).|"
   ]
  },
  {
   "cell_type": "markdown",
   "id": "eb31f792",
   "metadata": {},
   "source": [
    "another way to get this phone number from this format ```555-555-555```, ```555 555 555```, or ```555555555``` is by defining a regular expression to validate the metacharacter plus sign: \n",
    "\n",
    "```'/\\d+[-\\s]?\\d+[-\\s]?\\d+'```\n",
    "\n",
    "It will require the digits (```\\d```) to be repeated one or more times."
   ]
  },
  {
   "cell_type": "markdown",
   "id": "2612f67c",
   "metadata": {},
   "source": [
    "Let's fine-tune the regular expression by defining that the leftmost digit group can contain up to three characters, while the rest of the digit groups should contain exactly three digits:"
   ]
  },
  {
   "cell_type": "code",
   "execution_count": 24,
   "id": "1e6bc427",
   "metadata": {},
   "outputs": [
    {
     "data": {
      "text/plain": [
       "['555 555 555']"
      ]
     },
     "execution_count": 24,
     "metadata": {},
     "output_type": "execute_result"
    }
   ],
   "source": [
    "# using quantifiers\n",
    "re.findall('\\d{1,3}[-\\s]?\\d{3}[-\\s]?\\d{3}','555 555 555')"
   ]
  },
  {
   "cell_type": "markdown",
   "id": "bd1fb117",
   "metadata": {},
   "source": [
    "# Greedy and Non-greedy (reluctant) quantifiers"
   ]
  },
  {
   "cell_type": "markdown",
   "id": "f39475dc",
   "metadata": {},
   "source": [
    "We still haven't defined what would match if we apply a quantifer such as this \n",
    "```\".+\"``` to a text such as the following: ```English \"Hello\", Spanish \"Hola\"```. We may expect that it matches ```\"Hello\"``` and ```\"Hola\"``` but it will actually match ```\"Hello\", Spanish \"Hola\"```."
   ]
  },
  {
   "cell_type": "code",
   "execution_count": 25,
   "id": "caf3a0c6",
   "metadata": {},
   "outputs": [
    {
     "data": {
      "text/plain": [
       "['\"Hello\", Spanish \"Hola\"']"
      ]
     },
     "execution_count": 25,
     "metadata": {},
     "output_type": "execute_result"
    }
   ],
   "source": [
    "re.findall(r'\".+\"', 'English \"Hello\", Spanish \"Hola\"')"
   ]
  },
  {
   "cell_type": "markdown",
   "id": "6997d839",
   "metadata": {},
   "source": [
    "This behavior is called greedy and is one of the two possible behaviors of the \n",
    "quantifers in Python: **greedy** and **non-greedy** (also known as reluctant).\n",
    "- The greedy behavior of the quantifers is applied by default in the quantifers. A greedy quantifer will try to match as much as possible to have the biggest match result possible.\n",
    "- The non-greedy behavior can be requested by adding an extra question mark to the quantifer; for example, ```??```, ```*?``` or ```+?```. A quantifer marked as reluctant will behave like the exact opposite of the greedy ones. They will try to have the smallest match possible."
   ]
  },
  {
   "cell_type": "markdown",
   "id": "f6e6fa4c",
   "metadata": {},
   "source": [
    "We can understand better how this quantifer works by looking at the next figure. We will apply almost the same regular expression (with the exception of leaving the quantifer as greedy or marking it as reluctant) to the same text, having two very different results:"
   ]
  },
  {
   "cell_type": "code",
   "execution_count": 26,
   "id": "ca04bc65",
   "metadata": {},
   "outputs": [
    {
     "data": {
      "text/plain": [
       "['\"Hello\", Spanish \"Hola\"']"
      ]
     },
     "execution_count": 26,
     "metadata": {},
     "output_type": "execute_result"
    }
   ],
   "source": [
    "# Greedy quantifier\n",
    "re.findall(r'\".+\"', 'English \"Hello\", Spanish \"Hola\"')"
   ]
  },
  {
   "cell_type": "code",
   "execution_count": 27,
   "id": "320a37e6",
   "metadata": {},
   "outputs": [
    {
     "data": {
      "text/plain": [
       "['\"Hello\"', '\"Hola\"']"
      ]
     },
     "execution_count": 27,
     "metadata": {},
     "output_type": "execute_result"
    }
   ],
   "source": [
    "# reluctant or non-greedy quantifiers\n",
    "re.findall(r'\".+?\"', 'English \"Hello\", Spanish \"Hola\"')"
   ]
  },
  {
   "cell_type": "code",
   "execution_count": 28,
   "id": "8251f3d1",
   "metadata": {},
   "outputs": [
    {
     "data": {
      "text/plain": [
       "['(HELLO), Spanish (HOLA)']"
      ]
     },
     "execution_count": 28,
     "metadata": {},
     "output_type": "execute_result"
    }
   ],
   "source": [
    "# another example of greedy quantifier\n",
    "re.findall(r'\\(.+\\)', r'English (HELLO), Spanish (HOLA)')"
   ]
  },
  {
   "cell_type": "code",
   "execution_count": 29,
   "id": "b7769f3d",
   "metadata": {},
   "outputs": [
    {
     "data": {
      "text/plain": [
       "['(HELLO)', '(HOLA)']"
      ]
     },
     "execution_count": 29,
     "metadata": {},
     "output_type": "execute_result"
    }
   ],
   "source": [
    "# another example of reluctant or non-greedy quantifier\n",
    "re.findall(r'\\(.+?\\)', r'English (HELLO), Spanish (HOLA)')"
   ]
  },
  {
   "cell_type": "code",
   "execution_count": 30,
   "id": "9f57a238",
   "metadata": {},
   "outputs": [
    {
     "data": {
      "text/plain": [
       "['(PBB)', '(USA)', '(UEA)']"
      ]
     },
     "execution_count": 30,
     "metadata": {},
     "output_type": "execute_result"
    }
   ],
   "source": [
    "# another example of reluctant or non-greedy quantifier\n",
    "re.findall(r'\\(.+?\\)', r'Perserikatan Bangsa Bangsa (PBB), United State of America (USA), Uni Emirate Arab (UEA)')"
   ]
  },
  {
   "cell_type": "markdown",
   "id": "e8a0a23c",
   "metadata": {},
   "source": [
    "# Boundary matchers"
   ]
  },
  {
   "cell_type": "markdown",
   "id": "19337162",
   "metadata": {},
   "source": [
    "Until this point, we have just tried to fnd out regular expressions within a text. Sometimes, when it is required to match a whole line, we may also need to match at the beginning of a line or even at the end. This can be done thanks to the **boundary matchers**."
   ]
  },
  {
   "cell_type": "markdown",
   "id": "7d2ec064",
   "metadata": {},
   "source": [
    "The boundary matchers are a number of identifers that will correspond to a particular position inside of the input. The following table shows the boundary \n",
    "matchers available in Python:"
   ]
  },
  {
   "cell_type": "markdown",
   "id": "6cccb0b8",
   "metadata": {},
   "source": [
    "|Matcher |Description|\n",
    "|:-: | :-|\n",
    "|```^``` |Matches at the beginning of a line|\n",
    "|```$``` | Matches at the end of a line |\n",
    "|```\\b```| Matches a word boundary|\n",
    "|```\\B```| Matches the opposite of \\b. Anything that is not a word boundary |\n",
    "|```\\A```| Matches the beginning of the input |\n",
    "|```\\Z```| Matches the end of the input|"
   ]
  },
  {
   "cell_type": "markdown",
   "id": "9be1bdbe",
   "metadata": {},
   "source": [
    "These boundary matchers will behave differently in different contexts. For instance, the word boundaries (```\\b```) will depend directly on the configured locale as different languages may have different word boundaries, and the beginning and end of line boundaries will behave differently based on certain flags that we will study in the next chapter."
   ]
  },
  {
   "cell_type": "markdown",
   "id": "e01fc39c",
   "metadata": {},
   "source": [
    "Let's start working with boundary matchers by writing a regular expression that  will match *lines that start with ```\"Name:\"```*. If you take a look at the previous table, you may notice the existence of the metacharacter ```^``` that expresses the beginning of a line. Using it, we can write the following expression:\n",
    "\n",
    "```'^Name:'```"
   ]
  },
  {
   "cell_type": "markdown",
   "id": "bfd456a4",
   "metadata": {},
   "source": [
    "|Element |Description| \n",
    "|:-: | :- |\n",
    "|```^```| Matches the beginning of the line |\n",
    "|```N```| Matches the followed by character N |\n",
    "|```a```| Matches the followed by character a|\n",
    "|```m```| Matches the followed by character m |\n",
    "|```e```| Matches the followed by character e |\n",
    "|```:```| Matches the followed by symbol colon |"
   ]
  },
  {
   "cell_type": "markdown",
   "id": "c4e8313f",
   "metadata": {},
   "source": [
    "If we want to take one step further and continue using the caret and the dollar sign in combination to match the end of the line, we should take into consideration that from now on we are going to be matching against the whole line, and not just trying to fnd a pattern within a line."
   ]
  },
  {
   "cell_type": "markdown",
   "id": "45f7cb1a",
   "metadata": {},
   "source": [
    "Following the previous example, let's say that we want to make sure that after the name, there are only alphabetic characters or spaces until the end of the line. We will do this by matching the whole line until the end by setting a character set with the accepted characters and allowing their repetition any number of times until the end of the line.\n",
    "\n",
    "```'^Name:[\\sa-zA-Z]+$'```"
   ]
  },
  {
   "cell_type": "markdown",
   "id": "f9df2138",
   "metadata": {},
   "source": [
    "|Element |Description|\n",
    "|:- | :-|\n",
    "|^ |Matches the beginning of the line.|\n",
    "|N |Matches the followed by character N.|\n",
    "|a |Matches the followed by character a.|\n",
    "|m |Matches the followed by character m.|\n",
    "|e |Matches the followed by character e.|\n",
    "|: |Matches the followed by colon symbol.|\n",
    "|```[\\sa-zA-Z]```| Then matches the followed by whitespace, or any alphabetic lowercase or uppercase character.|\n",
    "|+ | The character can be repeated one or more times.|\n",
    "|$ |Until the end of the line.|"
   ]
  },
  {
   "cell_type": "code",
   "execution_count": 31,
   "id": "df2c2f6a",
   "metadata": {},
   "outputs": [
    {
     "data": {
      "text/plain": [
       "['Name: Sri Sultan Hamengku Buwono ke X']"
      ]
     },
     "execution_count": 31,
     "metadata": {},
     "output_type": "execute_result"
    }
   ],
   "source": [
    "text = r'Name: Sri Sultan Hamengku Buwono ke X'\n",
    "re.findall(r'^Name:[\\sa-zA-Z]+$', text)"
   ]
  },
  {
   "cell_type": "code",
   "execution_count": 32,
   "id": "f16fe89d",
   "metadata": {},
   "outputs": [
    {
     "data": {
      "text/plain": [
       "['Name: Sri Sultan Hamengku Buwono ke X']"
      ]
     },
     "execution_count": 32,
     "metadata": {},
     "output_type": "execute_result"
    }
   ],
   "source": [
    "text2 = r'Name: Sri Sultan Hamengku Buwono ke X. City:Yogyakarta'\n",
    "re.findall(r'^Name:[\\sa-zA-Z]+', text2)"
   ]
  },
  {
   "cell_type": "code",
   "execution_count": 33,
   "id": "be70e85b",
   "metadata": {},
   "outputs": [
    {
     "data": {
      "text/plain": [
       "[]"
      ]
     },
     "execution_count": 33,
     "metadata": {},
     "output_type": "execute_result"
    }
   ],
   "source": [
    "text4 = r'Name: Sri Sultan Hamengku Buwono ke X City:Yogyakarta'\n",
    "re.findall(r'^Name:[\\sa-zA-Z]+$', text4)"
   ]
  },
  {
   "cell_type": "code",
   "execution_count": 34,
   "id": "e9b5bbaf",
   "metadata": {},
   "outputs": [
    {
     "data": {
      "text/plain": [
       "[]"
      ]
     },
     "execution_count": 34,
     "metadata": {},
     "output_type": "execute_result"
    }
   ],
   "source": [
    "text41 = r'Name: Sri Sultan Hamengku Buwono ke X City. Yogyakarta'\n",
    "re.findall(r'^Name:[\\sa-zA-Z]+$', text41)"
   ]
  },
  {
   "cell_type": "code",
   "execution_count": 35,
   "id": "738beadc",
   "metadata": {},
   "outputs": [
    {
     "data": {
      "text/plain": [
       "[]"
      ]
     },
     "execution_count": 35,
     "metadata": {},
     "output_type": "execute_result"
    }
   ],
   "source": [
    "text5 = '''\n",
    "Name: Sri Sultan Hamengku Buwono \n",
    "ke X City Yogyakarta\n",
    "'''\n",
    "re.findall(r'^Name:[\\sa-zA-Z]+$', text5)"
   ]
  },
  {
   "cell_type": "code",
   "execution_count": 36,
   "id": "ea15a648",
   "metadata": {},
   "outputs": [
    {
     "data": {
      "text/plain": [
       "['Name: Sri Sultan Hamengku Buwono ke X City']"
      ]
     },
     "execution_count": 36,
     "metadata": {},
     "output_type": "execute_result"
    }
   ],
   "source": [
    "text6 = r'Name: Sri Sultan Hamengku Buwono ke X City:Yogyakarta'\n",
    "re.findall(r'^Name:[\\sa-zA-Z]+', text6)"
   ]
  },
  {
   "cell_type": "code",
   "execution_count": 37,
   "id": "675a3aab",
   "metadata": {},
   "outputs": [
    {
     "data": {
      "text/plain": [
       "['Name: Sri Sultan Hamengku Buwono ke']"
      ]
     },
     "execution_count": 37,
     "metadata": {},
     "output_type": "execute_result"
    }
   ],
   "source": [
    "text7 = r'Name: Sri Sultan Hamengku Buwono ke. X City Yogyakarta'\n",
    "re.findall(r'^Name:[\\sa-zA-Z]+', text7)"
   ]
  },
  {
   "cell_type": "code",
   "execution_count": 38,
   "id": "b08ff872",
   "metadata": {},
   "outputs": [
    {
     "data": {
      "text/plain": [
       "['Name: Sri Sultan Hamengku Buwono ke X City Yogyakarta']"
      ]
     },
     "execution_count": 38,
     "metadata": {},
     "output_type": "execute_result"
    }
   ],
   "source": [
    "# percobaan ubah tanda dollar\n",
    "text8 = r'Name: Sri Sultan Hamengku Buwono ke X City Yogyakarta'\n",
    "re.findall(r'^Name:[\\sa-zA-Z]+$', text8)"
   ]
  },
  {
   "cell_type": "code",
   "execution_count": 39,
   "id": "79e8ef5d",
   "metadata": {},
   "outputs": [
    {
     "data": {
      "text/plain": [
       "[]"
      ]
     },
     "execution_count": 39,
     "metadata": {},
     "output_type": "execute_result"
    }
   ],
   "source": [
    "# percobaan ubah tanda dollar\n",
    "text9 = '''\n",
    "Name: Sri Sultan Hamengku. \n",
    "Buwono ke X City Yogyakarta\n",
    "'''\n",
    "re.findall(r'^Name:[\\sa-zA-Z]+$', text9)"
   ]
  },
  {
   "cell_type": "code",
   "execution_count": 40,
   "id": "e2db4610",
   "metadata": {},
   "outputs": [
    {
     "data": {
      "text/plain": [
       "[]"
      ]
     },
     "execution_count": 40,
     "metadata": {},
     "output_type": "execute_result"
    }
   ],
   "source": [
    "text3 = '''\n",
    " Name: Sri Sultan Hamengku \n",
    " Buwono ke X\n",
    " Name: Yogyakarta\n",
    "'''\n",
    "\n",
    "re.findall(r'^Name:[\\sa-zA-Z]+$', text3)"
   ]
  },
  {
   "cell_type": "markdown",
   "id": "a14885c5",
   "metadata": {},
   "source": [
    "**Please learn further about using caret ^ and dollar $.**"
   ]
  },
  {
   "cell_type": "markdown",
   "id": "90b113b5",
   "metadata": {},
   "source": [
    "Another outstanding boundary matcher is the word boundary ```\\b```. It will match any character that is not a word character (in the confgured locale), and therefore, any potential word boundary. This is very useful when we want to work with isolated words and we don't want to create character sets with every single character that may divide our words (spaces, commas, colons, hyphens, and so on). We can, for instance, make sure that the word hello appears in a text by using the following regular expression:\n",
    "\n",
    "```'\\bhello\\b'```"
   ]
  },
  {
   "cell_type": "markdown",
   "id": "5c341e1d",
   "metadata": {},
   "source": [
    "|Element |Description |\n",
    "| :-: | :- |\n",
    "|\\b | Matches a word boundary.|\n",
    "|h |Matches the followed by character h.|\n",
    "|e |Matches the followed by character e.|\n",
    "|l |Matches the followed by character l.|\n",
    "|l |Matches the followed by character l.|\n",
    "|o |Matches the followed by character o.|\n",
    "|\\b|Then matches another followed by word boundary.|"
   ]
  },
  {
   "cell_type": "markdown",
   "id": "d6a49840",
   "metadata": {},
   "source": [
    "As an exercise, we could think why the preceding expression is better than ```'hello'```. The reason is that this expression will match an isolated word instead of a word containing ```\"hello\"```, that is, ```'hello'``` will easily match ```hello```, ```helloed```, or ```Othello```; \n",
    "\n",
    "while ```'\\bhello\\b'``` will only match ```hello```."
   ]
  },
  {
   "cell_type": "code",
   "execution_count": 41,
   "id": "dd7810d2",
   "metadata": {},
   "outputs": [
    {
     "data": {
      "text/plain": [
       "[]"
      ]
     },
     "execution_count": 41,
     "metadata": {},
     "output_type": "execute_result"
    }
   ],
   "source": [
    "\n",
    "re.findall('\\bhello\\b', 'hello, helloed, Othello')"
   ]
  },
  {
   "cell_type": "code",
   "execution_count": 42,
   "id": "b4f28b8f",
   "metadata": {},
   "outputs": [
    {
     "data": {
      "text/plain": [
       "[]"
      ]
     },
     "execution_count": 42,
     "metadata": {},
     "output_type": "execute_result"
    }
   ],
   "source": [
    "hello_string = \"'hello', 'helloed', 'Othello'\"\n",
    "hello_pattern = re.compile(r'\\b\"hello\"\\b')\n",
    "re.findall(hello_pattern, hello_string)"
   ]
  },
  {
   "cell_type": "code",
   "execution_count": 43,
   "id": "36afedda",
   "metadata": {},
   "outputs": [
    {
     "data": {
      "text/plain": [
       "[]"
      ]
     },
     "execution_count": 43,
     "metadata": {},
     "output_type": "execute_result"
    }
   ],
   "source": [
    "hello_string = \"helloed\"\n",
    "hello_pattern = re.compile(r'\\bhello\\b')\n",
    "re.findall(hello_pattern, hello_string)"
   ]
  },
  {
   "cell_type": "code",
   "execution_count": 44,
   "id": "92ed548b",
   "metadata": {},
   "outputs": [
    {
     "data": {
      "text/plain": [
       "['hello']"
      ]
     },
     "execution_count": 44,
     "metadata": {},
     "output_type": "execute_result"
    }
   ],
   "source": [
    "hello_string = \"hello\"\n",
    "hello_pattern = re.compile(r'\\bhello\\b')\n",
    "re.findall(hello_pattern, hello_string)"
   ]
  },
  {
   "cell_type": "markdown",
   "id": "f1021305",
   "metadata": {},
   "source": [
    "# Summary"
   ]
  },
  {
   "cell_type": "markdown",
   "id": "a4c521fd",
   "metadata": {},
   "source": [
    "In this frst chapter, we have learned the importance of the regular expressions and how they became such a relevant tool for the programmers. We also studied from a yet non-practical point of view, the basic regular expression syntax and some of the key features, such as character classes and quantifers. In the next chapter, we are going to jump over to Python to start practicing with the re module."
   ]
  },
  {
   "cell_type": "markdown",
   "id": "7627b0f9",
   "metadata": {},
   "source": []
  }
 ],
 "metadata": {
  "kernelspec": {
   "display_name": "Python 3.7.13 ('py37_env')",
   "language": "python",
   "name": "python3"
  },
  "language_info": {
   "codemirror_mode": {
    "name": "ipython",
    "version": 3
   },
   "file_extension": ".py",
   "mimetype": "text/x-python",
   "name": "python",
   "nbconvert_exporter": "python",
   "pygments_lexer": "ipython3",
   "version": "3.7.13"
  },
  "vscode": {
   "interpreter": {
    "hash": "5d2385f2293676a9cebe0155d31490450e7af24ae604c6382f1f94682d378ca8"
   }
  }
 },
 "nbformat": 4,
 "nbformat_minor": 5
}
